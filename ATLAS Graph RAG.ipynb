{
 "cells": [
  {
   "cell_type": "code",
   "execution_count": 1,
   "id": "bc829fc3",
   "metadata": {},
   "outputs": [],
   "source": [
    "!pip install python-dotenv"
   ]
  },
  {
   "cell_type": "code",
   "execution_count": 2,
   "id": "9f93b34f",
   "metadata": {},
   "outputs": [],
   "source": [
    "!pip install -U google-generativeai"
   ]
  },
  {
   "cell_type": "code",
   "execution_count": 2,
   "id": "4e1d6675",
   "metadata": {},
   "outputs": [],
   "source": [
    "!pip install -qU langchain-google-genai"
   ]
  },
  {
   "cell_type": "code",
   "execution_count": 1,
   "id": "7d63f586",
   "metadata": {},
   "outputs": [],
   "source": [
    "import os\n",
    "from dotenv import load_dotenv\n",
    "import warnings\n",
    "from langchain_community.graphs import Neo4jGraph\n",
    "import fitz\n",
    "from tqdm.auto import tqdm\n",
    "import requests\n",
    "import spacy \n",
    "from sentence_transformers import SentenceTransformer\n",
    "import google.generativeai as genai\n",
    "import textwrap\n",
    "from langchain_community.vectorstores import Neo4jVector\n",
    "from langchain_google_genai import ChatGoogleGenerativeAI"
   ]
  },
  {
   "cell_type": "code",
   "execution_count": 2,
   "id": "98e5b530",
   "metadata": {},
   "outputs": [],
   "source": [
    "documents = [\"My_pdf.pdf\",\n",
    "             \"SCI2022-5395248.pdf\"\n",
    "            ]\n",
    "\n",
    "# path = 'My_pdf.pdf'\n",
    "# if not os.path.exists(path) :\n",
    "#     response = request.get('')\n",
    "#     filename = 'My_pdf.pdf'\n",
    "#     with open(filename,'wb') as file:\n",
    "#         file.write(response.content()) \n",
    "       "
   ]
  },
  {
   "cell_type": "code",
   "execution_count": 3,
   "id": "eb0c0e50",
   "metadata": {},
   "outputs": [],
   "source": [
    "nlp = spacy.load(\"en_core_web_sm\")\n",
    "\n",
    "def preprocess_text (text : str) -> str:\n",
    "    txt = text.replace('\\n',' ').strip()\n",
    "    return txt\n",
    "\n",
    "def transform_pdf_sentences (documents : list())->list(dict()):\n",
    "    liste = []\n",
    "    for path in documents:\n",
    "        doc = fitz.open(path)\n",
    "        for page_number,page in tqdm(enumerate(doc)):\n",
    "            sentences = []\n",
    "            text = preprocess_text(page.get_text())\n",
    "            spacy_text = nlp(text)\n",
    "            for sent in spacy_text.sents:\n",
    "                sentences.append(str(sent))\n",
    "            liste.append({\n",
    "                'page_number':page_number,\n",
    "                'text':str(text),\n",
    "                'sentences':sentences,\n",
    "                'tokens_counts':len(text)/4,\n",
    "                'tokens_per_sentence':(len(text)/4)/len(sentences),\n",
    "                'pdf_name':path\n",
    "            })\n",
    "    return liste"
   ]
  },
  {
   "cell_type": "code",
   "execution_count": 4,
   "id": "5809e53d",
   "metadata": {},
   "outputs": [
    {
     "data": {
      "application/vnd.jupyter.widget-view+json": {
       "model_id": "36a6ddf3cbd74e5ea27faa0fbe1c74ae",
       "version_major": 2,
       "version_minor": 0
      },
      "text/plain": [
       "0it [00:00, ?it/s]"
      ]
     },
     "metadata": {},
     "output_type": "display_data"
    },
    {
     "data": {
      "application/vnd.jupyter.widget-view+json": {
       "model_id": "e3aafe36d598453fb4aa2471d4abd18d",
       "version_major": 2,
       "version_minor": 0
      },
      "text/plain": [
       "0it [00:00, ?it/s]"
      ]
     },
     "metadata": {},
     "output_type": "display_data"
    }
   ],
   "source": [
    "pages_to_dict = transform_pdf_sentences(documents)"
   ]
  },
  {
   "cell_type": "code",
   "execution_count": 5,
   "id": "3c98a8db",
   "metadata": {},
   "outputs": [
    {
     "data": {
      "text/html": [
       "<div>\n",
       "<style scoped>\n",
       "    .dataframe tbody tr th:only-of-type {\n",
       "        vertical-align: middle;\n",
       "    }\n",
       "\n",
       "    .dataframe tbody tr th {\n",
       "        vertical-align: top;\n",
       "    }\n",
       "\n",
       "    .dataframe thead th {\n",
       "        text-align: right;\n",
       "    }\n",
       "</style>\n",
       "<table border=\"1\" class=\"dataframe\">\n",
       "  <thead>\n",
       "    <tr style=\"text-align: right;\">\n",
       "      <th></th>\n",
       "      <th>page_number</th>\n",
       "      <th>text</th>\n",
       "      <th>sentences</th>\n",
       "      <th>tokens_counts</th>\n",
       "      <th>tokens_per_sentence</th>\n",
       "      <th>pdf_name</th>\n",
       "    </tr>\n",
       "  </thead>\n",
       "  <tbody>\n",
       "    <tr>\n",
       "      <th>0</th>\n",
       "      <td>0</td>\n",
       "      <td>REVIEW Open Access Stem cells: a potential tre...</td>\n",
       "      <td>[REVIEW Open Access Stem cells: a potential tr...</td>\n",
       "      <td>1226.50</td>\n",
       "      <td>39.564516</td>\n",
       "      <td>My_pdf.pdf</td>\n",
       "    </tr>\n",
       "    <tr>\n",
       "      <th>1</th>\n",
       "      <td>1</td>\n",
       "      <td>differentiating, and replacing damaged cells [...</td>\n",
       "      <td>[differentiating, and replacing damaged cells ...</td>\n",
       "      <td>808.00</td>\n",
       "      <td>44.888889</td>\n",
       "      <td>My_pdf.pdf</td>\n",
       "    </tr>\n",
       "    <tr>\n",
       "      <th>2</th>\n",
       "      <td>2</td>\n",
       "      <td>cells of any tissue types except for extraembr...</td>\n",
       "      <td>[cells of any tissue types except for extraemb...</td>\n",
       "      <td>1461.00</td>\n",
       "      <td>30.437500</td>\n",
       "      <td>My_pdf.pdf</td>\n",
       "    </tr>\n",
       "    <tr>\n",
       "      <th>3</th>\n",
       "      <td>3</td>\n",
       "      <td>nephron-like structures containing glomeruli, ...</td>\n",
       "      <td>[nephron-like structures containing glomeruli,...</td>\n",
       "      <td>1469.75</td>\n",
       "      <td>32.661111</td>\n",
       "      <td>My_pdf.pdf</td>\n",
       "    </tr>\n",
       "    <tr>\n",
       "      <th>4</th>\n",
       "      <td>4</td>\n",
       "      <td>function and structure of the kidney. Injectio...</td>\n",
       "      <td>[function and structure of the kidney., Inject...</td>\n",
       "      <td>1470.75</td>\n",
       "      <td>33.426136</td>\n",
       "      <td>My_pdf.pdf</td>\n",
       "    </tr>\n",
       "  </tbody>\n",
       "</table>\n",
       "</div>"
      ],
      "text/plain": [
       "   page_number                                               text  \\\n",
       "0            0  REVIEW Open Access Stem cells: a potential tre...   \n",
       "1            1  differentiating, and replacing damaged cells [...   \n",
       "2            2  cells of any tissue types except for extraembr...   \n",
       "3            3  nephron-like structures containing glomeruli, ...   \n",
       "4            4  function and structure of the kidney. Injectio...   \n",
       "\n",
       "                                           sentences  tokens_counts  \\\n",
       "0  [REVIEW Open Access Stem cells: a potential tr...        1226.50   \n",
       "1  [differentiating, and replacing damaged cells ...         808.00   \n",
       "2  [cells of any tissue types except for extraemb...        1461.00   \n",
       "3  [nephron-like structures containing glomeruli,...        1469.75   \n",
       "4  [function and structure of the kidney., Inject...        1470.75   \n",
       "\n",
       "   tokens_per_sentence    pdf_name  \n",
       "0            39.564516  My_pdf.pdf  \n",
       "1            44.888889  My_pdf.pdf  \n",
       "2            30.437500  My_pdf.pdf  \n",
       "3            32.661111  My_pdf.pdf  \n",
       "4            33.426136  My_pdf.pdf  "
      ]
     },
     "execution_count": 5,
     "metadata": {},
     "output_type": "execute_result"
    }
   ],
   "source": [
    "import pandas as pd\n",
    "\n",
    "df = pd.DataFrame(pages_to_dict)\n",
    "\n",
    "df.head()"
   ]
  },
  {
   "cell_type": "code",
   "execution_count": 9,
   "id": "e32d8f23",
   "metadata": {},
   "outputs": [],
   "source": [
    "df.describe()"
   ]
  },
  {
   "cell_type": "code",
   "execution_count": 6,
   "id": "cf05b070",
   "metadata": {},
   "outputs": [
    {
     "data": {
      "application/vnd.jupyter.widget-view+json": {
       "model_id": "6872966008334d2da3522921b4c361e6",
       "version_major": 2,
       "version_minor": 0
      },
      "text/plain": [
       "  0%|          | 0/35 [00:00<?, ?it/s]"
      ]
     },
     "metadata": {},
     "output_type": "display_data"
    }
   ],
   "source": [
    "\n",
    "num_sentence_chunk_size = 11 # our embedding model accept 384 tokens \n",
    "\n",
    "def split_list(input_list: list, slice_size: int) -> list[list[str]]:\n",
    "\n",
    "    return [input_list[i:i + slice_size] for i in range(0, len(input_list), slice_size)]\n",
    "\n",
    "\n",
    "for item in tqdm(pages_to_dict):\n",
    "    item[\"sentence_chunks\"] = split_list(input_list=item[\"sentences\"],slice_size=num_sentence_chunk_size)\n",
    "    item[\"number_of_chunks\"] = len(item[\"sentence_chunks\"])"
   ]
  },
  {
   "cell_type": "code",
   "execution_count": 7,
   "id": "aaca772a",
   "metadata": {},
   "outputs": [
    {
     "data": {
      "application/vnd.jupyter.widget-view+json": {
       "model_id": "3b7061ba59474472ac85259e9aa9e466",
       "version_major": 2,
       "version_minor": 0
      },
      "text/plain": [
       "  0%|          | 0/35 [00:00<?, ?it/s]"
      ]
     },
     "metadata": {},
     "output_type": "display_data"
    },
    {
     "data": {
      "text/plain": [
       "193"
      ]
     },
     "execution_count": 7,
     "metadata": {},
     "output_type": "execute_result"
    }
   ],
   "source": [
    "import re\n",
    "\n",
    "\n",
    "pages_to_chunks = []\n",
    "for item in tqdm(pages_to_dict):\n",
    "    for idx,sentence_chunk in enumerate(item[\"sentence_chunks\"]):\n",
    "        chunk_dict = {}\n",
    "        chunk_dict[\"page_number\"] = item[\"page_number\"]\n",
    "        \n",
    "        joined_sentence_chunk = \"\".join(sentence_chunk).replace(\"  \", \" \").strip()\n",
    "        joined_sentence_chunk = re.sub(r'\\.([A-Z])', r'. \\1', joined_sentence_chunk)  \n",
    "        chunk_dict[\"chunk\"] = joined_sentence_chunk\n",
    "\n",
    "        chunk_dict[\"chunk_pdf_name\"] = item['pdf_name']\n",
    "        chunk_dict[\"chunk_begin\"] = idx*11\n",
    "        chunk_dict[\"chunk_end\"] = len(sentence_chunk)+idx*11\n",
    "        chunk_dict[\"chunk_token_count\"] = len(joined_sentence_chunk) / 4 # 1 token = ~4 characters\n",
    "        \n",
    "        pages_to_chunks.append(chunk_dict)\n",
    "\n",
    "len(pages_to_chunks)"
   ]
  },
  {
   "cell_type": "code",
   "execution_count": 8,
   "id": "f78b51e6",
   "metadata": {},
   "outputs": [
    {
     "data": {
      "text/html": [
       "<div>\n",
       "<style scoped>\n",
       "    .dataframe tbody tr th:only-of-type {\n",
       "        vertical-align: middle;\n",
       "    }\n",
       "\n",
       "    .dataframe tbody tr th {\n",
       "        vertical-align: top;\n",
       "    }\n",
       "\n",
       "    .dataframe thead th {\n",
       "        text-align: right;\n",
       "    }\n",
       "</style>\n",
       "<table border=\"1\" class=\"dataframe\">\n",
       "  <thead>\n",
       "    <tr style=\"text-align: right;\">\n",
       "      <th></th>\n",
       "      <th>page_number</th>\n",
       "      <th>chunk</th>\n",
       "      <th>chunk_pdf_name</th>\n",
       "      <th>chunk_begin</th>\n",
       "      <th>chunk_end</th>\n",
       "      <th>chunk_token_count</th>\n",
       "    </tr>\n",
       "  </thead>\n",
       "  <tbody>\n",
       "    <tr>\n",
       "      <th>0</th>\n",
       "      <td>0</td>\n",
       "      <td>REVIEW Open Access Stem cells: a potential tre...</td>\n",
       "      <td>My_pdf.pdf</td>\n",
       "      <td>0</td>\n",
       "      <td>11</td>\n",
       "      <td>500.00</td>\n",
       "    </tr>\n",
       "    <tr>\n",
       "      <th>1</th>\n",
       "      <td>0</td>\n",
       "      <td>Owing to high medical costs and adverse impact...</td>\n",
       "      <td>My_pdf.pdf</td>\n",
       "      <td>11</td>\n",
       "      <td>22</td>\n",
       "      <td>346.50</td>\n",
       "    </tr>\n",
       "    <tr>\n",
       "      <th>2</th>\n",
       "      <td>0</td>\n",
       "      <td>2020Open Access This article is licensed under...</td>\n",
       "      <td>My_pdf.pdf</td>\n",
       "      <td>22</td>\n",
       "      <td>31</td>\n",
       "      <td>376.25</td>\n",
       "    </tr>\n",
       "    <tr>\n",
       "      <th>3</th>\n",
       "      <td>1</td>\n",
       "      <td>differentiating, and replacing damaged cells [...</td>\n",
       "      <td>My_pdf.pdf</td>\n",
       "      <td>0</td>\n",
       "      <td>11</td>\n",
       "      <td>581.25</td>\n",
       "    </tr>\n",
       "    <tr>\n",
       "      <th>4</th>\n",
       "      <td>1</td>\n",
       "      <td>[16, 17]. But understanding TSCs helps us to u...</td>\n",
       "      <td>My_pdf.pdf</td>\n",
       "      <td>11</td>\n",
       "      <td>18</td>\n",
       "      <td>224.75</td>\n",
       "    </tr>\n",
       "  </tbody>\n",
       "</table>\n",
       "</div>"
      ],
      "text/plain": [
       "   page_number                                              chunk  \\\n",
       "0            0  REVIEW Open Access Stem cells: a potential tre...   \n",
       "1            0  Owing to high medical costs and adverse impact...   \n",
       "2            0  2020Open Access This article is licensed under...   \n",
       "3            1  differentiating, and replacing damaged cells [...   \n",
       "4            1  [16, 17]. But understanding TSCs helps us to u...   \n",
       "\n",
       "  chunk_pdf_name  chunk_begin  chunk_end  chunk_token_count  \n",
       "0     My_pdf.pdf            0         11             500.00  \n",
       "1     My_pdf.pdf           11         22             346.50  \n",
       "2     My_pdf.pdf           22         31             376.25  \n",
       "3     My_pdf.pdf            0         11             581.25  \n",
       "4     My_pdf.pdf           11         18             224.75  "
      ]
     },
     "execution_count": 8,
     "metadata": {},
     "output_type": "execute_result"
    }
   ],
   "source": [
    "dff = pd.DataFrame(pages_to_chunks)\n",
    "dff.head()"
   ]
  },
  {
   "cell_type": "code",
   "execution_count": 9,
   "id": "e7766795",
   "metadata": {},
   "outputs": [
    {
     "data": {
      "text/html": [
       "<div>\n",
       "<style scoped>\n",
       "    .dataframe tbody tr th:only-of-type {\n",
       "        vertical-align: middle;\n",
       "    }\n",
       "\n",
       "    .dataframe tbody tr th {\n",
       "        vertical-align: top;\n",
       "    }\n",
       "\n",
       "    .dataframe thead th {\n",
       "        text-align: right;\n",
       "    }\n",
       "</style>\n",
       "<table border=\"1\" class=\"dataframe\">\n",
       "  <thead>\n",
       "    <tr style=\"text-align: right;\">\n",
       "      <th></th>\n",
       "      <th>page_number</th>\n",
       "      <th>chunk_begin</th>\n",
       "      <th>chunk_end</th>\n",
       "      <th>chunk_token_count</th>\n",
       "    </tr>\n",
       "  </thead>\n",
       "  <tbody>\n",
       "    <tr>\n",
       "      <th>count</th>\n",
       "      <td>193.000000</td>\n",
       "      <td>193.000000</td>\n",
       "      <td>193.000000</td>\n",
       "      <td>193.000000</td>\n",
       "    </tr>\n",
       "    <tr>\n",
       "      <th>mean</th>\n",
       "      <td>11.487047</td>\n",
       "      <td>44.000000</td>\n",
       "      <td>54.062176</td>\n",
       "      <td>245.641192</td>\n",
       "    </tr>\n",
       "    <tr>\n",
       "      <th>std</th>\n",
       "      <td>5.794312</td>\n",
       "      <td>44.441792</td>\n",
       "      <td>44.365624</td>\n",
       "      <td>145.954676</td>\n",
       "    </tr>\n",
       "    <tr>\n",
       "      <th>min</th>\n",
       "      <td>0.000000</td>\n",
       "      <td>0.000000</td>\n",
       "      <td>7.000000</td>\n",
       "      <td>6.500000</td>\n",
       "    </tr>\n",
       "    <tr>\n",
       "      <th>25%</th>\n",
       "      <td>7.000000</td>\n",
       "      <td>11.000000</td>\n",
       "      <td>22.000000</td>\n",
       "      <td>142.000000</td>\n",
       "    </tr>\n",
       "    <tr>\n",
       "      <th>50%</th>\n",
       "      <td>13.000000</td>\n",
       "      <td>33.000000</td>\n",
       "      <td>38.000000</td>\n",
       "      <td>201.000000</td>\n",
       "    </tr>\n",
       "    <tr>\n",
       "      <th>75%</th>\n",
       "      <td>16.000000</td>\n",
       "      <td>66.000000</td>\n",
       "      <td>77.000000</td>\n",
       "      <td>336.250000</td>\n",
       "    </tr>\n",
       "    <tr>\n",
       "      <th>max</th>\n",
       "      <td>19.000000</td>\n",
       "      <td>165.000000</td>\n",
       "      <td>169.000000</td>\n",
       "      <td>848.500000</td>\n",
       "    </tr>\n",
       "  </tbody>\n",
       "</table>\n",
       "</div>"
      ],
      "text/plain": [
       "       page_number  chunk_begin   chunk_end  chunk_token_count\n",
       "count   193.000000   193.000000  193.000000         193.000000\n",
       "mean     11.487047    44.000000   54.062176         245.641192\n",
       "std       5.794312    44.441792   44.365624         145.954676\n",
       "min       0.000000     0.000000    7.000000           6.500000\n",
       "25%       7.000000    11.000000   22.000000         142.000000\n",
       "50%      13.000000    33.000000   38.000000         201.000000\n",
       "75%      16.000000    66.000000   77.000000         336.250000\n",
       "max      19.000000   165.000000  169.000000         848.500000"
      ]
     },
     "execution_count": 9,
     "metadata": {},
     "output_type": "execute_result"
    }
   ],
   "source": [
    "dff.describe()"
   ]
  },
  {
   "cell_type": "code",
   "execution_count": 14,
   "id": "a8194f02",
   "metadata": {},
   "outputs": [],
   "source": [
    "!pip install neo4j"
   ]
  },
  {
   "cell_type": "code",
   "execution_count": 3,
   "id": "04c659f1",
   "metadata": {},
   "outputs": [],
   "source": [
    "# from whyhow import WhyHow\n",
    "load_dotenv()\n",
    "\n",
    "\n",
    "warnings.filterwarnings(\"ignore\")\n",
    "\n",
    "#namespace = \"ATLAS Graph-RAG\"\n",
    "\n",
    "#client = WhyHow(neo4j_user=user,neo4j_password=password,neo4j_url=url)\n",
    "kg = Neo4jGraph(\n",
    "    url='Enter your Neo4j DB URL', username=\"neo4j\", password=\"Your Password\", database='neo4j'\n",
    ")\n",
    "# documents_response = client.graph.add_documents(namespace = namespace, documents = documents)\n"
   ]
  },
  {
   "cell_type": "code",
   "execution_count": 11,
   "id": "98d2c1a4",
   "metadata": {},
   "outputs": [
    {
     "data": {
      "application/vnd.jupyter.widget-view+json": {
       "model_id": "2ce4b53590464d8f9236a4e96d271fc8",
       "version_major": 2,
       "version_minor": 0
      },
      "text/plain": [
       "0it [00:00, ?it/s]"
      ]
     },
     "metadata": {},
     "output_type": "display_data"
    }
   ],
   "source": [
    "query = \"\"\"\n",
    "    MERGE(mergedChunk:Chunk {chunkId: $chunkId})\n",
    "        ON CREATE SET \n",
    "            mergedChunk.text = $chunkParam['chunk'],\n",
    "            mergedChunk.page = $chunkParam['page_number'], \n",
    "            mergedChunk.source = $chunkParam['chunk_pdf_name'], \n",
    "            mergedChunk.begin = $chunkParam['chunk_begin'], \n",
    "            mergedChunk.end = $chunkParam['chunk_end']\n",
    "        RETURN mergedChunk\n",
    "    \"\"\"      \n",
    "for idx,chunk in tqdm(enumerate(pages_to_chunks)):\n",
    "    kg.query(query,params={'chunkParam': chunk,'chunkId':idx})"
   ]
  },
  {
   "cell_type": "code",
   "execution_count": 12,
   "id": "42768684",
   "metadata": {},
   "outputs": [
    {
     "data": {
      "text/plain": [
       "[]"
      ]
     },
     "execution_count": 12,
     "metadata": {},
     "output_type": "execute_result"
    }
   ],
   "source": [
    "kg.query(\"\"\"\n",
    "CREATE CONSTRAINT unique_chunk IF NOT EXISTS \n",
    "    FOR (c:Chunk) REQUIRE c.chunkId IS UNIQUE\n",
    "\"\"\")"
   ]
  },
  {
   "cell_type": "code",
   "execution_count": 13,
   "id": "c39c1345",
   "metadata": {},
   "outputs": [
    {
     "data": {
      "text/plain": [
       "[{'nodeCount': 193}]"
      ]
     },
     "execution_count": 13,
     "metadata": {},
     "output_type": "execute_result"
    }
   ],
   "source": [
    "kg.query(\"\"\"\n",
    "         MATCH (n)\n",
    "         RETURN count(n) as nodeCount\n",
    "         \"\"\")"
   ]
  },
  {
   "cell_type": "code",
   "execution_count": 14,
   "id": "be58ab74",
   "metadata": {},
   "outputs": [
    {
     "data": {
      "text/plain": [
       "[]"
      ]
     },
     "execution_count": 14,
     "metadata": {},
     "output_type": "execute_result"
    }
   ],
   "source": [
    "Creating_index_cypher = \"\"\"\n",
    "CREATE VECTOR INDEX `vector_index` IF NOT EXISTS\n",
    "    FOR (c:Chunk) ON c.chunk_embedding\n",
    "    OPTIONS { indexConfig: {\n",
    "            `vector.dimensions`: 768,\n",
    "            `vector.similarity_function`: 'cosine'    \n",
    "         }}\n",
    "\n",
    "\"\"\"\n",
    "\n",
    "kg.query(Creating_index_cypher)"
   ]
  },
  {
   "cell_type": "code",
   "execution_count": 7,
   "id": "64a626ec",
   "metadata": {},
   "outputs": [],
   "source": [
    "import torch\n",
    "device = \"cuda\" if torch.cuda.is_available() else \"cpu\"\n",
    "embedding_model = SentenceTransformer(model_name_or_path=\"all-mpnet-base-v2\", device=device)"
   ]
  },
  {
   "cell_type": "code",
   "execution_count": 16,
   "id": "7277249d",
   "metadata": {},
   "outputs": [
    {
     "data": {
      "application/vnd.jupyter.widget-view+json": {
       "model_id": "80ad8a080f074204a1fd79e309c7e05a",
       "version_major": 2,
       "version_minor": 0
      },
      "text/plain": [
       "0it [00:00, ?it/s]"
      ]
     },
     "metadata": {},
     "output_type": "display_data"
    }
   ],
   "source": [
    "for idx,chunk in tqdm(enumerate(pages_to_chunks)):\n",
    "    emb = embedding_model.encode(chunk['chunk'])\n",
    "    kg.query(\"\"\"\n",
    "    MATCH (chunk:Chunk) WHERE chunk.chunk_embedding IS NULL AND chunk.chunkId = $ID\n",
    "    \n",
    "    WITH chunk, $embedding AS vector\n",
    "    \n",
    "    CALL db.create.setNodeVectorProperty(chunk, \"chunk_embedding\", vector)\n",
    "    \"\"\" ,params={'embedding': emb,'ID':idx})"
   ]
  },
  {
   "cell_type": "code",
   "execution_count": 8,
   "id": "fc970ba9",
   "metadata": {},
   "outputs": [
    {
     "name": "stdout",
     "output_type": "stream",
     "text": [
      "Node properties:\n",
      "Chunk {chunkId: INTEGER, text: STRING, page: INTEGER, source: STRING, begin: INTEGER, end: INTEGER, chunk_embedding: LIST}\n",
      "PDF {pdf_name: STRING}\n",
      "Relationship properties:\n",
      "\n",
      "The relationships:\n",
      "(:Chunk)-[:IN]->(:PDF)\n",
      "(:Chunk)-[:NEXT]->(:Chunk)\n"
     ]
    }
   ],
   "source": [
    "kg.refresh_schema()\n",
    "print(kg.schema)"
   ]
  },
  {
   "cell_type": "code",
   "execution_count": 9,
   "id": "a855c903",
   "metadata": {},
   "outputs": [],
   "source": [
    "def neo4j_vector_search(question,embedding_model):\n",
    "    \"\"\"Search for similar nodes using the Neo4j vector index\"\"\"\n",
    "    Q_emb = embedding_model.encode(question)\n",
    "# print(Q_emb)\n",
    "    vector_search_query = \"\"\"\n",
    "        WITH $embedding AS question_embedding\n",
    "        CALL db.index.vector.queryNodes($index_name, $top_k, question_embedding) yield node, score\n",
    "        RETURN score, node.text AS text\n",
    "      \"\"\"\n",
    "    similar = kg.query(vector_search_query, \n",
    "                     params={\n",
    "                      'embedding': Q_emb,\n",
    "                      'index_name':'vector_index', \n",
    "                      'top_k': 10})\n",
    "    return similar"
   ]
  },
  {
   "cell_type": "code",
   "execution_count": 10,
   "id": "3f389d19",
   "metadata": {},
   "outputs": [
    {
     "data": {
      "text/plain": [
       "[{'id': 4,\n",
       "  'name': 'vector_index',\n",
       "  'state': 'ONLINE',\n",
       "  'populationPercent': 100.0,\n",
       "  'type': 'VECTOR',\n",
       "  'entityType': 'NODE',\n",
       "  'labelsOrTypes': ['Chunk'],\n",
       "  'properties': ['chunk_embedding'],\n",
       "  'indexProvider': 'vector-2.0',\n",
       "  'owningConstraint': None,\n",
       "  'lastRead': neo4j.time.DateTime(2024, 8, 5, 14, 46, 30, 894000000, tzinfo=<UTC>),\n",
       "  'readCount': 5}]"
      ]
     },
     "execution_count": 10,
     "metadata": {},
     "output_type": "execute_result"
    }
   ],
   "source": [
    "kg.query(\"\"\"\n",
    "  SHOW VECTOR INDEXES\n",
    "  \"\"\"\n",
    ")"
   ]
  },
  {
   "cell_type": "code",
   "execution_count": 11,
   "id": "7b799f9e",
   "metadata": {},
   "outputs": [
    {
     "data": {
      "text/plain": [
       "[{'score': 0.8417819142341614,\n",
       "  'text': '[16, 17]. But understanding TSCs helps us to understand the molecular mechanisms behind main- tenance and manipulation of cell fate and is essential to understand how pluripotent cells form in vivo. Pluripotency refers to a stem cell with potential to dif- ferentiate into any of the three germ lineages: endoderm (interior stomach lining, gastrointestinal tract, the lungs), mesoderm (muscle, bone, blood, urogenital), or ecto- derm (epidermal tissues and nervous system)[18]. Pluri- potent stem cells (PSCs) are capable of giving rise to all Fig. 1 Classification of stem cells based on differentiation potential. TSCs, totipotent stem cells; ESCs, embryonic stem cells; iPSCs, induced pluripotent cells; MSCs, mesenchymal stem cells; HSCs, hematopoietic stem cells; NSCs, neural stem cells; RSPCs, renal stem/progenitor cells Liu et al. Stem Cell Research & Therapy     (2020) 11:249 Page 2 of 20'},\n",
       " {'score': 0.8155966997146606,\n",
       "  'text': 'Stem Cell Research & Therapy     (2020) 11:249 Page 4 of 20'},\n",
       " {'score': 0.8124737739562988, 'text': '7 Stem Cells International'},\n",
       " {'score': 0.8090450763702393,\n",
       "  'text': '104. Forbes TA, Howden SE, Lawlor K, Phipson B, Maksimovic J, Hale L, Wilson S, Quinlan C, Ho G, Holman K, Bennetts B, Crawford J, Trnka P, Oshlack A, Patel Liu et al. Stem Cell Research & Therapy     (2020) 11:249 Page 17 of 20'},\n",
       " {'score': 0.8074100017547607,\n",
       "  'text': 'Embryonic stem cell lines derived from human blastocysts. Science (New York, N. Y.).1998;282:1145–7.19. Martin GR. Isolation of a pluripotent cell line from early mouse embryos cultured in medium conditioned by teratocarcinoma stem cells. Proc Natl Acad Sci U S A. 1981;78:7634–8.20. Bigas A, Waskow C. Blood stem cells: from beginning to end. Development (Cambridge, England).2016;143:3429–33. 21.'},\n",
       " {'score': 0.7987287044525146,\n",
       "  'text': \"2007;131:861–72.47. Yang YH, Zhang RZ, Cheng S, Xu B, Tian T, Shi HX, Xiao L, Chen RH. Generation of from human epidermal keratinocytes. Cell Reprogram.2018;20:356–64.48. Spitalieri P, Talarico RV, Botta A, Murdocca M, D'Apice MR, Orlandi A, Giardina E, Santoro M, Brancati F, Novelli G, Sangiuolo F. Generation of human induced pluripotent stem cells from extraembryonic tissues of fetuses affected by monogenic diseases. Cell Reprogram.2015;17:275–87.\"},\n",
       " {'score': 0.7980931997299194,\n",
       "  'text': 'cells of any tissue types except for extraembryonic cells and mainly include embryonic stem cells (ESCs) and in- duced pluripotent stem cells (iPSCs). ESCs are harvested from the inner cell mass of blastocysts and are consid- ered as the initial candidates of cell therapy[18, 19]. However, the clinical use of ESCs generated from sur- plus embryos has some problems, including bioethical debate, immunological rejections, and the risk of tera- toma. One way to circumvent these issues is by generat- ing PSCs directly from the patients’ own cells. Induced pluripotent stem cells are reprogrammed somatic cells that regain pluripotency by inducing a “forced” overex- pression of certain transcription factors.iPSCs share many similarities with ESCs in terms of morphology, proliferation, surface markers, gene expression, epigen- etic status, etc., and a less risk of immune rejection than ESCs. They are considered to be a potential source for renal generation and promising cell source for patients requiring specific cell therapy. Adult SCs that exist in the postnatal organisms are ei- ther multipotent or unipotent and are restricted to a limited range of cell types if iPSCs were not taken into consideration. Multipotent SCs, including hematopoietic stem cells (HSCs)[20], mesenchymal stem cells (MSCs)'},\n",
       " {'score': 0.7925477623939514,\n",
       "  'text': '49. Nishishita N, Takenaka C, Fusaki N, Kawamata S. Generation of human induced pluripotent stem cells from cord blood cells. J Stem Cells.2011;6: 101–8.50. Gu H, Huang X, Xu J, Song L, Liu S, Zhang XB, Yuan W, Li Y. Optimizing the method for generation of integration-free induced pluripotent stem cells from human peripheral blood. Stem Cell Res Ther.2018;9:163.51. Aoi T, Yae K, Nakagawa M, Ichisaka T, Okita K, Takahashi K, Chiba T, Yamanaka S. Generation of pluripotent stem cells from adult mouse liver and stomach cells. Science (New York, N. Y.).'},\n",
       " {'score': 0.7907005548477173,\n",
       "  'text': 'Sci Rep. 2019;9:8001.90. Musah S, Dimitrakakis N, Camacho DM, Church GM, Ingber DE. Directed differentiation of human induced pluripotent stem cells into mature kidney podocytes and establishment of a Glomerulus Chip. Nat Protoc.2018;13: 1662–85.91. Musah S, Mammoto A, Ferrante TC, et al. Mature induced-pluripotent-stem- cell-derived human podocytes reconstitute kidney glomerular-capillary wall function on a chip. Nat Biomed Eng. 2017;1:0069.92.'},\n",
       " {'score': 0.7904008626937866,\n",
       "  'text': '2008;321:699–702.52. Kawano E, Toriumi T, Iguchi S, Suzuki D, Sato S, Honda M. Induction of neural crest cells from human dental pulp-derived induced pluripotent stem cells. Biomed Res (Tokyo, Japan).2017;38:135–47.53. Nagano S, Maeda T, Ichise H, Kashima S, Ohtaka M, Nakanishi M, Kitawaki T, Kadowaki N, Takaori-Kondo A, Masuda K, Kawamoto H. High frequency production of T cell-derived iPSC clones capable of generating potent cytotoxic T cells. Mol Ther Methods Clin Dev. 2020;16:126–35.54. Song B, Niclis JC, Alikhan MA, Sakkal S, Sylvain A, Kerr PG, Laslett AL, Bernard CA, Ricardo SD. Generation of induced pluripotent stem cells from human kidney mesangial cells.'}]"
      ]
     },
     "execution_count": 11,
     "metadata": {},
     "output_type": "execute_result"
    }
   ],
   "source": [
    "result = neo4j_vector_search('what are the Pluripotent stem cells?',embedding_model)\n",
    "result"
   ]
  },
  {
   "cell_type": "code",
   "execution_count": 21,
   "id": "f1e2d6be",
   "metadata": {},
   "outputs": [
    {
     "name": "stdout",
     "output_type": "stream",
     "text": [
      "Available GPU memory: 4 GB\n"
     ]
    }
   ],
   "source": [
    "# Get GPU available memory\n",
    "import torch\n",
    "gpu_memory_bytes = torch.cuda.get_device_properties(0).total_memory\n",
    "gpu_memory_gb = round(gpu_memory_bytes / (2**30))\n",
    "print(f\"Available GPU memory: {gpu_memory_gb} GB\")"
   ]
  },
  {
   "cell_type": "code",
   "execution_count": 22,
   "id": "3a437ae9",
   "metadata": {},
   "outputs": [
    {
     "data": {
      "application/vnd.jupyter.widget-view+json": {
       "model_id": "da804c4ef2b448b3b28b7536886c42a4",
       "version_major": 2,
       "version_minor": 0
      },
      "text/plain": [
       "0it [00:00, ?it/s]"
      ]
     },
     "metadata": {},
     "output_type": "display_data"
    }
   ],
   "source": [
    "query = \"\"\"\n",
    "       CREATE (p:PDF { pdf_name : $pdf_name})\n",
    "       RETURN p.pdf_name\n",
    "\n",
    "\"\"\"\n",
    "for idx,chunk in tqdm(enumerate(documents)):\n",
    "    kg.query(query,params={'pdf_name': chunk})"
   ]
  },
  {
   "cell_type": "code",
   "execution_count": 23,
   "id": "2d439045",
   "metadata": {},
   "outputs": [
    {
     "data": {
      "text/plain": [
       "[]"
      ]
     },
     "execution_count": 23,
     "metadata": {},
     "output_type": "execute_result"
    }
   ],
   "source": [
    "kg.query(\"\"\"\n",
    "       CREATE CONSTRAINT unique_pdf IF NOT EXISTS\n",
    "       FOR (p:PDF) REQUIRE p.pdf_name IS UNIQUE\n",
    "\"\"\")\n",
    "\n"
   ]
  },
  {
   "cell_type": "code",
   "execution_count": 24,
   "id": "11047525",
   "metadata": {},
   "outputs": [
    {
     "data": {
      "text/plain": [
       "[]"
      ]
     },
     "execution_count": 24,
     "metadata": {},
     "output_type": "execute_result"
    }
   ],
   "source": [
    "kg.query(\"\"\"\n",
    "MATCH (c:Chunk),(p:PDF)\n",
    "WHERE c.source = p.pdf_name\n",
    "MERGE (c)-[:IN]->(p)\n",
    "\"\"\")"
   ]
  },
  {
   "cell_type": "code",
   "execution_count": 10,
   "id": "ecfee64e",
   "metadata": {},
   "outputs": [
    {
     "name": "stdout",
     "output_type": "stream",
     "text": [
      "Node properties:\n",
      "Chunk {chunkId: INTEGER, text: STRING, page: INTEGER, source: STRING, begin: INTEGER, end: INTEGER, chunk_embedding: LIST}\n",
      "PDF {pdf_name: STRING}\n",
      "Relationship properties:\n",
      "\n",
      "The relationships:\n",
      "(:Chunk)-[:IN]->(:PDF)\n",
      "(:Chunk)-[:NEXT]->(:Chunk)\n"
     ]
    }
   ],
   "source": [
    "kg.refresh_schema()\n",
    "print(kg.schema)"
   ]
  },
  {
   "cell_type": "code",
   "execution_count": 26,
   "id": "c1dfab23",
   "metadata": {},
   "outputs": [],
   "source": [
    "cypher = \"\"\"\n",
    "  MATCH (from_same_pdf:Chunk)\n",
    "  WHERE from_same_pdf.source = $pdfname\n",
    "  WITH from_same_pdf\n",
    "    ORDER BY from_same_pdf.chunkId ASC\n",
    "  WITH collect(from_same_pdf) as section_chunk_list\n",
    "    CALL apoc.nodes.link(\n",
    "        section_chunk_list, \n",
    "        \"NEXT\", \n",
    "        {avoidDuplicates: true}\n",
    "    )\n",
    "  RETURN size(section_chunk_list)\n",
    "\"\"\"\n",
    "for pdf in documents:\n",
    "    kg.query(cypher, params={'pdfname':pdf})"
   ]
  },
  {
   "cell_type": "code",
   "execution_count": 57,
   "id": "f9619de3",
   "metadata": {},
   "outputs": [],
   "source": [
    "\n",
    "retrieval_query_window = \"\"\"\n",
    "MATCH window = (:Chunk)-[:NEXT*0..1]->(node:Chunk)-[:NEXT*0..1]->(:Chunk)\n",
    "WITH node, window\n",
    "ORDER BY length(window) DESC LIMIT 1\n",
    "WITH nodes(window) as chunkList, node\n",
    "UNWIND chunkList as chunkRows\n",
    "WITH collect(chunkRows.text) as textList, node\n",
    "RETURN apoc.text.join(textList, \" \\n \") as text,\n",
    "       node.score as score,\n",
    "       node {.source} AS metadata\n",
    "\"\"\"\n"
   ]
  },
  {
   "cell_type": "code",
   "execution_count": 58,
   "id": "1e91cb19",
   "metadata": {},
   "outputs": [
    {
     "name": "stderr",
     "output_type": "stream",
     "text": [
      "Received notification from DBMS server: {severity: WARNING} {code: Neo.ClientNotification.Statement.UnknownPropertyKeyWarning} {category: UNRECOGNIZED} {title: The provided property key is not in the database} {description: One of the property names in your query is not available in the database, make sure you didn't misspell it or that the label is available when you run this statement in your application (the missing property name is: score)} {position: line: 11, column: 13, offset: 310} for query: '\\nMATCH window = (:Chunk)-[:NEXT*0..1]->(node:Chunk)-[:NEXT*0..1]->(:Chunk)\\nWITH node, window\\nORDER BY length(window) DESC LIMIT 1\\nWITH nodes(window) as chunkList, node\\nUNWIND chunkList as chunkRows\\nWITH collect(chunkRows.text) as textList, node\\nRETURN apoc.text.join(textList, \" \\n \") as text,\\n       node.score as score,\\n       node {.source} AS metadata\\n'\n"
     ]
    },
    {
     "data": {
      "text/plain": [
       "[{'text': \"REVIEW Open Access Stem cells: a potential treatment option for kidney diseases Dongwei Liu1,2,3,4, Fei Cheng1,2,3,4, Shaokang Pan1,2,3,4 and Zhangsuo Liu1,2,3,4*Abstract The prevalence of kidney diseases is emerging as a public health problem. Stem cells (SCs), currently considered as a promising tool for therapeutic application, have aroused considerable interest and expectations. With self-renewal capabilities and great potential for proliferation and differentiation, stem cell therapy opens new avenues for the development of renal function and structural repair in kidney diseases. Mounting evidence suggests that stem cells exert a therapeutic effect mainly by replacing damaged tissues and paracrine pathways. The benefits of various types of SCs in acute kidney disease and chronic kidney disease have been demonstrated in preclinical studies, and preliminary results of clinical trials present its safety and tolerability. This review will focus on the stem cell-based therapy approaches for the treatment of kidney diseases, including various cell sources used, possible mechanisms involved, and outcomes that are generated so far, along with prospects and challenges in clinical application. Keywords: Stem cells, Kidney diseases, Kidney regeneration, Organoids, Embryonic stem cells, Mesenchymal stem cells, Induced pluripotent stem cells, Progenitor cells Introduction Kidney diseases have become a global public health problem due to their rapidly growing incidence. These diseases affect over 10% of the global population, be- cause of a global rise in the aging population, as well as increase in the frequency of their main etiologies, such as diabetes, cardiovascular diseases, and hypertension[1, 2]. As a routine treatment for kidney diseases, multidrug therapy cannot reverse the process of entering into end- stage renal disease (ESRD) in most of the patients, and those with ESRD require renal replacement therapy, i.e., maintenance dialysis or kidney transplantation [3]. \\n Owing to high medical costs and adverse impacts on the patient’s quality of life, dialysis is not considered as an ideal treatment strategy [4, 5]. Kidney transplantation enables patients to regain their own renal function; however, severe shortage of organ donors and potential organ rejection limited its use. Consequently, exploring novel and better therapeutic options to alleviate, cure, or prevent renal diseases and to improve patients’ survival and quality of life is mandatory. Stem cells (SCs) are described by their self-renewal abilities and the capability to develop into various func- tional cells under certain conditions. Based on the ad- vantages of plasticity, infinite amplification, and ease of genetic manipulation, stem cell therapy opens new ave-nues for almost all human diseases. The application of SC therapy in treating a variety of diseases such as im- munological, vascular, cardiac, and renal diseases has been extensively explored [6, 7]. The use of SCs is a promising therapeutic strategy for kidney diseases as well. Increasing results obtained in models of acute kid- ney injury (AKI) and chronic kidney disease (CKD) document that SCs have therapeutic potential in repair of renal injury, preserving renal function and structure thus prolonging animal survival. The effects were ini- tially attributed to SCs implanting damaged tissue, ©The Author(s). \\n 2020Open Access This article is licensed under a Creative Commons Attribution 4.0 International License, which permits use, sharing, adaptation, distribution and reproduction in any medium or format, as long as you give appropriate credit to the original author(s) and the source, provide a link to the Creative Commons licence, and indicate if changes were made. The images or other third party material in this article are included in the article's Creative Commons licence, unless indicated otherwise in a credit line to the material. If material is not included in the article's Creative Commons licence and your intended use is not permitted by statutory regulation or exceeds the permitted use, you will need to obtain permission directly from the copyright holder. To view a copy of this licence, visit http://creativecommons.org/licenses/by/4.0/. The Creative Commons Public Domain Dedication waiver (http://creativecommons.org/publicdomain/zero/1.0/) applies to the data made available in this article, unless otherwise stated in a credit line to the data.*Correspondence: zhangsuoliu@zzu.edu.cn 1Department of Nephrology, The First Affiliated Hospital of Zhengzhou University, Zhengzhou 450052, People’s Republic of China 2Research Institute of Nephrology, Zhengzhou University, Zhengzhou 450052, People’s Republic of China Full list of author information is available at the end of the article Liu et al. Stem Cell Research & Therapy     (2020) 11:249 https://doi.org/10.1186/s13287-020-01751-2\",\n",
       "  'score': None,\n",
       "  'metadata': {'source': 'My_pdf.pdf'}}]"
      ]
     },
     "execution_count": 58,
     "metadata": {},
     "output_type": "execute_result"
    }
   ],
   "source": [
    "kg.query(retrieval_query_window)"
   ]
  },
  {
   "cell_type": "code",
   "execution_count": 28,
   "id": "a167a0b1",
   "metadata": {},
   "outputs": [],
   "source": [
    "class MyEmbeddings:\n",
    "        def __init__(self, model):\n",
    "            self.model = SentenceTransformer(model, trust_remote_code=True,device=device)\n",
    "    \n",
    "        def embed_documents(self, texts: list[str]) -> list[list[float]]:\n",
    "            return [self.model.encode(t).tolist() for t in texts]\n",
    "        \n",
    "        def embed_query(self, text: str) -> list[float]:\n",
    "            return self.model.encode(text)"
   ]
  },
  {
   "cell_type": "code",
   "execution_count": 78,
   "id": "d1ddaed3",
   "metadata": {
    "scrolled": true
   },
   "outputs": [
    {
     "name": "stderr",
     "output_type": "stream",
     "text": [
      "INFO:sentence_transformers.SentenceTransformer:Load pretrained SentenceTransformer: all-mpnet-base-v2\n",
      "DEBUG:urllib3.connectionpool:Resetting dropped connection: huggingface.co\n",
      "DEBUG:urllib3.connectionpool:https://huggingface.co:443 \"HEAD /sentence-transformers/all-mpnet-base-v2/resolve/main/modules.json HTTP/1.1\" 200 0\n",
      "DEBUG:urllib3.connectionpool:https://huggingface.co:443 \"HEAD /sentence-transformers/all-mpnet-base-v2/resolve/main/config_sentence_transformers.json HTTP/1.1\" 200 0\n",
      "DEBUG:urllib3.connectionpool:https://huggingface.co:443 \"HEAD /sentence-transformers/all-mpnet-base-v2/resolve/main/README.md HTTP/1.1\" 200 0\n",
      "DEBUG:urllib3.connectionpool:https://huggingface.co:443 \"HEAD /sentence-transformers/all-mpnet-base-v2/resolve/main/modules.json HTTP/1.1\" 200 0\n",
      "DEBUG:urllib3.connectionpool:https://huggingface.co:443 \"HEAD /sentence-transformers/all-mpnet-base-v2/resolve/main/sentence_bert_config.json HTTP/1.1\" 200 0\n",
      "DEBUG:urllib3.connectionpool:https://huggingface.co:443 \"HEAD /sentence-transformers/all-mpnet-base-v2/resolve/main/config.json HTTP/1.1\" 200 0\n",
      "DEBUG:urllib3.connectionpool:https://huggingface.co:443 \"HEAD /sentence-transformers/all-mpnet-base-v2/resolve/main/tokenizer_config.json HTTP/1.1\" 200 0\n",
      "DEBUG:urllib3.connectionpool:https://huggingface.co:443 \"GET /api/models/sentence-transformers/all-mpnet-base-v2/revision/main HTTP/1.1\" 200 5982\n",
      "DEBUG:neo4j.pool:[#0000]  _: <POOL> created, routing address IPv4Address(('58c9bf7b.databases.neo4j.io', 7687))\n",
      "DEBUG:neo4j:[#0000]  _: <WORKSPACE> resolve home database\n",
      "DEBUG:neo4j.pool:[#0000]  _: <POOL> attempting to update routing table from IPv4Address(('58c9bf7b.databases.neo4j.io', 7687))\n",
      "DEBUG:neo4j.io:[#0000]  _: <RESOLVE> in: 58c9bf7b.databases.neo4j.io:7687\n",
      "DEBUG:neo4j.io:[#0000]  _: <RESOLVE> dns resolver out: 34.78.76.49:7687\n",
      "DEBUG:neo4j.pool:[#0000]  _: <POOL> _acquire router connection, database=None, address=ResolvedIPv4Address(('34.78.76.49', 7687))\n",
      "DEBUG:neo4j.pool:[#0000]  _: <POOL> trying to hand out new connection\n",
      "DEBUG:neo4j.io:[#0000]  C: <OPEN> 34.78.76.49:7687\n",
      "DEBUG:neo4j.io:[#CDAF]  C: <SECURE> 58c9bf7b.databases.neo4j.io\n",
      "DEBUG:neo4j.io:[#CDAF]  C: <MAGIC> 0x6060B017\n",
      "DEBUG:neo4j.io:[#CDAF]  C: <HANDSHAKE> 0x00060605 0x00020404 0x00000104 0x00000003\n",
      "DEBUG:neo4j.io:[#CDAF]  S: <HANDSHAKE> 0x00000405\n",
      "DEBUG:neo4j.io:[#CDAF]  C: HELLO {'user_agent': 'neo4j-python/5.23.0 Python/3.10.11-final-0 (win32)', 'routing': {'address': '58c9bf7b.databases.neo4j.io:7687'}, 'bolt_agent': {'product': 'neo4j-python/5.23.0', 'platform': 'Windows 10; AMD64', 'language': 'Python/3.10.11-final-0', 'language_details': 'CPython; 3.10.11-final-0 (tags/v3.10.11:7d4cc5a, Apr  5 2023 00:38:17) [MSC v.1929 64 bit (AMD64)]'}}\n",
      "DEBUG:neo4j.io:[#CDAF]  _: <CONNECTION> client state: CONNECTED > AUTHENTICATION\n",
      "DEBUG:neo4j.io:[#CDAF]  C: LOGON {'scheme': 'basic', 'principal': 'neo4j', 'credentials': '*******'}\n",
      "DEBUG:neo4j.io:[#CDAF]  _: <CONNECTION> client state: AUTHENTICATION > READY\n",
      "DEBUG:neo4j.io:[#CDAF]  S: SUCCESS {'server': 'Neo4j/5.22-aura', 'connection_id': 'bolt-1558', 'hints': {'connection.recv_timeout_seconds': 60, 'telemetry.enabled': True}}\n",
      "DEBUG:neo4j.io:[#CDAF]  _: <CONNECTION> server state: CONNECTED > AUTHENTICATION\n",
      "DEBUG:neo4j.io:[#CDAF]  S: SUCCESS {}\n",
      "DEBUG:neo4j.io:[#CDAF]  _: <CONNECTION> server state: AUTHENTICATION > READY\n",
      "DEBUG:neo4j.io:[#CDAF]  C: ROUTE {'address': '58c9bf7b.databases.neo4j.io:7687'} () {}\n",
      "DEBUG:neo4j.io:[#CDAF]  S: SUCCESS {'rt': {'servers': [{'addresses': ['58c9bf7b.databases.neo4j.io:7687'], 'role': 'WRITE'}, {'addresses': ['58c9bf7b.databases.neo4j.io:7687'], 'role': 'READ'}, {'addresses': ['58c9bf7b.databases.neo4j.io:7687'], 'role': 'ROUTE'}], 'ttl': 10, 'db': 'neo4j'}}\n",
      "DEBUG:neo4j.pool:[#CDAF]  _: <POOL> released bolt-1558\n",
      "DEBUG:neo4j.pool:[#0000]  _: <ROUTING> updated table=RoutingTable(database='neo4j' routers={IPv4Address(('58c9bf7b.databases.neo4j.io', 7687))}, readers={IPv4Address(('58c9bf7b.databases.neo4j.io', 7687))}, writers={IPv4Address(('58c9bf7b.databases.neo4j.io', 7687))}, last_updated_time=1299283.078, ttl=10)\n",
      "DEBUG:neo4j.pool:[#0000]  _: <POOL> update routing table from address=ResolvedIPv4Address(('34.78.76.49', 7687)) (RoutingTable(database='neo4j' routers={IPv4Address(('58c9bf7b.databases.neo4j.io', 7687))}, readers={IPv4Address(('58c9bf7b.databases.neo4j.io', 7687))}, writers={IPv4Address(('58c9bf7b.databases.neo4j.io', 7687))}, last_updated_time=1299283.078, ttl=10))\n",
      "DEBUG:neo4j.pool:[#0000]  _: <POOL> acquire routing connection, access_mode='READ', database='neo4j'\n",
      "DEBUG:neo4j.pool:[#0000]  _: <POOL> routing aged?, database=None\n",
      "DEBUG:neo4j.pool:[#0000]  _: <ROUTING> purge check: last_updated_time=1299282.515, ttl=0, perf_time=1299283.109 => False\n",
      "DEBUG:neo4j.pool:[#0000]  _: <POOL> routing aged?, database=neo4j\n",
      "DEBUG:neo4j.pool:[#0000]  _: <ROUTING> purge check: last_updated_time=1299283.078, ttl=10, perf_time=1299283.109 => False\n",
      "DEBUG:neo4j.pool:[#0000]  _: <ROUTING> checking table freshness (readonly=True): table expired=False, has_server_for_mode=True, table routers={IPv4Address(('58c9bf7b.databases.neo4j.io', 7687))} => True\n",
      "DEBUG:neo4j.pool:[#0000]  _: <POOL> using existing routing table RoutingTable(database='neo4j' routers={IPv4Address(('58c9bf7b.databases.neo4j.io', 7687))}, readers={IPv4Address(('58c9bf7b.databases.neo4j.io', 7687))}, writers={IPv4Address(('58c9bf7b.databases.neo4j.io', 7687))}, last_updated_time=1299283.078, ttl=10)\n",
      "DEBUG:neo4j.pool:[#0000]  _: <POOL> acquire address, database='neo4j' address=IPv4Address(('58c9bf7b.databases.neo4j.io', 7687))\n",
      "DEBUG:neo4j.pool:[#0000]  _: <POOL> trying to hand out new connection\n",
      "DEBUG:neo4j.io:[#0000]  _: <RESOLVE> in: 58c9bf7b.databases.neo4j.io:7687\n",
      "DEBUG:neo4j.io:[#0000]  _: <RESOLVE> dns resolver out: 34.78.76.49:7687\n",
      "DEBUG:neo4j.io:[#0000]  C: <OPEN> 34.78.76.49:7687\n",
      "DEBUG:neo4j.io:[#CDB1]  C: <SECURE> 58c9bf7b.databases.neo4j.io\n",
      "DEBUG:neo4j.io:[#CDB1]  C: <MAGIC> 0x6060B017\n",
      "DEBUG:neo4j.io:[#CDB1]  C: <HANDSHAKE> 0x00060605 0x00020404 0x00000104 0x00000003\n",
      "DEBUG:neo4j.io:[#CDB1]  S: <HANDSHAKE> 0x00000405\n",
      "DEBUG:neo4j.io:[#CDB1]  C: HELLO {'user_agent': 'neo4j-python/5.23.0 Python/3.10.11-final-0 (win32)', 'routing': {'address': '58c9bf7b.databases.neo4j.io:7687'}, 'bolt_agent': {'product': 'neo4j-python/5.23.0', 'platform': 'Windows 10; AMD64', 'language': 'Python/3.10.11-final-0', 'language_details': 'CPython; 3.10.11-final-0 (tags/v3.10.11:7d4cc5a, Apr  5 2023 00:38:17) [MSC v.1929 64 bit (AMD64)]'}}\n",
      "DEBUG:neo4j.io:[#CDB1]  _: <CONNECTION> client state: CONNECTED > AUTHENTICATION\n",
      "DEBUG:neo4j.io:[#CDB1]  C: LOGON {'scheme': 'basic', 'principal': 'neo4j', 'credentials': '*******'}\n",
      "DEBUG:neo4j.io:[#CDB1]  _: <CONNECTION> client state: AUTHENTICATION > READY\n",
      "DEBUG:neo4j.io:[#CDB1]  S: SUCCESS {'server': 'Neo4j/5.22-aura', 'connection_id': 'bolt-1559', 'hints': {'connection.recv_timeout_seconds': 60, 'telemetry.enabled': True}}\n",
      "DEBUG:neo4j.io:[#CDB1]  _: <CONNECTION> server state: CONNECTED > AUTHENTICATION\n",
      "DEBUG:neo4j.io:[#CDB1]  S: SUCCESS {}\n",
      "DEBUG:neo4j.io:[#CDB1]  _: <CONNECTION> server state: AUTHENTICATION > READY\n",
      "DEBUG:neo4j.pool:[#CDB1]  _: <POOL> released bolt-1559\n",
      "DEBUG:neo4j.pool:[#0000]  _: <POOL> acquire routing connection, access_mode='WRITE', database='neo4j'\n",
      "DEBUG:neo4j.pool:[#0000]  _: <POOL> routing aged?, database=None\n",
      "DEBUG:neo4j.pool:[#0000]  _: <ROUTING> purge check: last_updated_time=1299282.515, ttl=0, perf_time=1299283.546 => False\n",
      "DEBUG:neo4j.pool:[#0000]  _: <POOL> routing aged?, database=neo4j\n",
      "DEBUG:neo4j.pool:[#0000]  _: <ROUTING> purge check: last_updated_time=1299283.078, ttl=10, perf_time=1299283.546 => False\n",
      "DEBUG:neo4j.pool:[#0000]  _: <ROUTING> checking table freshness (readonly=False): table expired=False, has_server_for_mode=True, table routers={IPv4Address(('58c9bf7b.databases.neo4j.io', 7687))} => True\n",
      "DEBUG:neo4j.pool:[#0000]  _: <POOL> using existing routing table RoutingTable(database='neo4j' routers={IPv4Address(('58c9bf7b.databases.neo4j.io', 7687))}, readers={IPv4Address(('58c9bf7b.databases.neo4j.io', 7687))}, writers={IPv4Address(('58c9bf7b.databases.neo4j.io', 7687))}, last_updated_time=1299283.078, ttl=10)\n",
      "DEBUG:neo4j.pool:[#0000]  _: <POOL> acquire address, database='neo4j' address=IPv4Address(('58c9bf7b.databases.neo4j.io', 7687))\n"
     ]
    },
    {
     "name": "stderr",
     "output_type": "stream",
     "text": [
      "DEBUG:neo4j.pool:[#CDB1]  _: <POOL> picked existing connection bolt-1559\n",
      "DEBUG:neo4j.pool:[#CDB1]  _: <POOL> checked re_auth auth=None updated=False force=False\n",
      "DEBUG:neo4j.pool:[#CDB1]  _: <POOL> handing out existing connection\n",
      "DEBUG:neo4j.io:[#CDB1]  C: TELEMETRY 2  # (<TelemetryAPI.AUTO_COMMIT: 2>)\n",
      "DEBUG:neo4j.io:[#CDB1]  C: RUN 'CALL dbms.components()' {} {'db': 'neo4j'}\n",
      "DEBUG:neo4j.io:[#CDB1]  _: <CONNECTION> client state: READY > STREAMING\n",
      "DEBUG:neo4j.io:[#CDB1]  C: PULL {'n': 1000}\n",
      "DEBUG:neo4j.io:[#CDB1]  S: SUCCESS {}\n",
      "DEBUG:neo4j.io:[#CDB1]  S: SUCCESS {'t_first': 6, 'fields': ['name', 'versions', 'edition']}\n",
      "DEBUG:neo4j.io:[#CDB1]  _: <CONNECTION> server state: READY > STREAMING\n",
      "DEBUG:neo4j.io:[#CDB1]  S: RECORD * 1\n",
      "DEBUG:neo4j.io:[#CDB1]  S: SUCCESS {'bookmark': 'FB:kcwQFzOWRTl8TWOIQ18zCpU3d8kBmpA=', 'type': 's', 't_last': 0, 'db': 'neo4j'}\n",
      "DEBUG:neo4j.io:[#CDB1]  _: <CONNECTION> server state: STREAMING > READY\n",
      "DEBUG:neo4j.pool:[#CDB1]  _: <POOL> released bolt-1559\n"
     ]
    },
    {
     "data": {
      "application/vnd.jupyter.widget-view+json": {
       "model_id": "588b5ddacf864bacb60989230b9f81c5",
       "version_major": 2,
       "version_minor": 0
      },
      "text/plain": [
       "Batches:   0%|          | 0/1 [00:00<?, ?it/s]"
      ]
     },
     "metadata": {},
     "output_type": "display_data"
    },
    {
     "name": "stderr",
     "output_type": "stream",
     "text": [
      "DEBUG:neo4j.pool:[#0000]  _: <POOL> acquire routing connection, access_mode='WRITE', database='neo4j'\n",
      "DEBUG:neo4j.pool:[#0000]  _: <POOL> routing aged?, database=None\n",
      "DEBUG:neo4j.pool:[#0000]  _: <ROUTING> purge check: last_updated_time=1299282.515, ttl=0, perf_time=1299283.89 => False\n",
      "DEBUG:neo4j.pool:[#0000]  _: <POOL> routing aged?, database=neo4j\n",
      "DEBUG:neo4j.pool:[#0000]  _: <ROUTING> purge check: last_updated_time=1299283.078, ttl=10, perf_time=1299283.89 => False\n",
      "DEBUG:neo4j.pool:[#0000]  _: <ROUTING> checking table freshness (readonly=False): table expired=False, has_server_for_mode=True, table routers={IPv4Address(('58c9bf7b.databases.neo4j.io', 7687))} => True\n",
      "DEBUG:neo4j.pool:[#0000]  _: <POOL> using existing routing table RoutingTable(database='neo4j' routers={IPv4Address(('58c9bf7b.databases.neo4j.io', 7687))}, readers={IPv4Address(('58c9bf7b.databases.neo4j.io', 7687))}, writers={IPv4Address(('58c9bf7b.databases.neo4j.io', 7687))}, last_updated_time=1299283.078, ttl=10)\n",
      "DEBUG:neo4j.pool:[#0000]  _: <POOL> acquire address, database='neo4j' address=IPv4Address(('58c9bf7b.databases.neo4j.io', 7687))\n",
      "DEBUG:neo4j.pool:[#CDB1]  _: <POOL> picked existing connection bolt-1559\n",
      "DEBUG:neo4j.pool:[#CDB1]  _: <POOL> checked re_auth auth=None updated=False force=False\n",
      "DEBUG:neo4j.pool:[#CDB1]  _: <POOL> handing out existing connection\n",
      "DEBUG:neo4j.io:[#CDB1]  C: TELEMETRY 2  # (<TelemetryAPI.AUTO_COMMIT: 2>)\n",
      "DEBUG:neo4j.io:[#CDB1]  C: RUN \"SHOW INDEXES YIELD name, type, entityType, labelsOrTypes, properties, options WHERE type = 'VECTOR' AND (name = $index_name OR (labelsOrTypes[0] = $node_label AND properties[0] = $embedding_node_property)) RETURN name, entityType, labelsOrTypes, properties, options \" {'index_name': 'vector_index', 'node_label': 'Chunk', 'embedding_node_property': 'chunk_embedding'} {'db': 'neo4j'}\n",
      "DEBUG:neo4j.io:[#CDB1]  C: PULL {'n': 1000}\n",
      "DEBUG:neo4j.io:[#CDB1]  S: SUCCESS {}\n",
      "DEBUG:neo4j.io:[#CDB1]  S: SUCCESS {'t_first': 4, 'fields': ['name', 'entityType', 'labelsOrTypes', 'properties', 'options']}\n",
      "DEBUG:neo4j.io:[#CDB1]  _: <CONNECTION> server state: READY > STREAMING\n",
      "DEBUG:neo4j.io:[#CDB1]  S: RECORD * 1\n",
      "DEBUG:neo4j.io:[#CDB1]  S: SUCCESS {'bookmark': 'FB:kcwQFzOWRTl8TWOIQ18zCpU3d8kBmpA=', 'type': 'r', 't_last': 2, 'db': 'neo4j'}\n",
      "DEBUG:neo4j.io:[#CDB1]  _: <CONNECTION> server state: STREAMING > READY\n",
      "DEBUG:neo4j.pool:[#CDB1]  _: <POOL> released bolt-1559\n",
      "DEBUG:neo4j.pool:[#0000]  _: <POOL> acquire routing connection, access_mode='WRITE', database='neo4j'\n",
      "DEBUG:neo4j.pool:[#0000]  _: <POOL> routing aged?, database=None\n",
      "DEBUG:neo4j.pool:[#0000]  _: <ROUTING> purge check: last_updated_time=1299282.515, ttl=0, perf_time=1299283.984 => False\n",
      "DEBUG:neo4j.pool:[#0000]  _: <POOL> routing aged?, database=neo4j\n",
      "DEBUG:neo4j.pool:[#0000]  _: <ROUTING> purge check: last_updated_time=1299283.078, ttl=10, perf_time=1299283.984 => False\n",
      "DEBUG:neo4j.pool:[#0000]  _: <ROUTING> checking table freshness (readonly=False): table expired=False, has_server_for_mode=True, table routers={IPv4Address(('58c9bf7b.databases.neo4j.io', 7687))} => True\n",
      "DEBUG:neo4j.pool:[#0000]  _: <POOL> using existing routing table RoutingTable(database='neo4j' routers={IPv4Address(('58c9bf7b.databases.neo4j.io', 7687))}, readers={IPv4Address(('58c9bf7b.databases.neo4j.io', 7687))}, writers={IPv4Address(('58c9bf7b.databases.neo4j.io', 7687))}, last_updated_time=1299283.078, ttl=10)\n",
      "DEBUG:neo4j.pool:[#0000]  _: <POOL> acquire address, database='neo4j' address=IPv4Address(('58c9bf7b.databases.neo4j.io', 7687))\n",
      "DEBUG:neo4j.pool:[#CDB1]  _: <POOL> picked existing connection bolt-1559\n",
      "DEBUG:neo4j.pool:[#CDB1]  _: <POOL> checked re_auth auth=None updated=False force=False\n",
      "DEBUG:neo4j.pool:[#CDB1]  _: <POOL> handing out existing connection\n",
      "DEBUG:neo4j.io:[#CDB1]  C: TELEMETRY 2  # (<TelemetryAPI.AUTO_COMMIT: 2>)\n",
      "DEBUG:neo4j.io:[#CDB1]  C: RUN \"MATCH (n:`Chunk`) WHERE n.chunk_embedding IS null AND any(k in $props WHERE n[k] IS NOT null) RETURN elementId(n) AS id, reduce(str='',k IN $props | str + '\\\\n' + k + ':' + coalesce(n[k], '')) AS text LIMIT 1000\" {'props': ['text']} {'db': 'neo4j'}\n",
      "DEBUG:neo4j.io:[#CDB1]  C: PULL {'n': 1000}\n",
      "DEBUG:neo4j.io:[#CDB1]  S: SUCCESS {}\n",
      "DEBUG:neo4j.io:[#CDB1]  S: SUCCESS {'t_first': 5, 'fields': ['id', 'text']}\n",
      "DEBUG:neo4j.io:[#CDB1]  _: <CONNECTION> server state: READY > STREAMING\n",
      "DEBUG:neo4j.io:[#CDB1]  S: SUCCESS {'bookmark': 'FB:kcwQFzOWRTl8TWOIQ18zCpU3d8kBmpA=', 'type': 'r', 't_last': 3, 'db': 'neo4j'}\n",
      "DEBUG:neo4j.io:[#CDB1]  _: <CONNECTION> server state: STREAMING > READY\n",
      "DEBUG:neo4j.pool:[#CDB1]  _: <POOL> released bolt-1559\n",
      "DEBUG:neo4j.pool:[#0000]  _: <POOL> acquire routing connection, access_mode='WRITE', database='neo4j'\n",
      "DEBUG:neo4j.pool:[#0000]  _: <POOL> routing aged?, database=None\n",
      "DEBUG:neo4j.pool:[#0000]  _: <ROUTING> purge check: last_updated_time=1299282.515, ttl=0, perf_time=1299284.078 => False\n",
      "DEBUG:neo4j.pool:[#0000]  _: <POOL> routing aged?, database=neo4j\n",
      "DEBUG:neo4j.pool:[#0000]  _: <ROUTING> purge check: last_updated_time=1299283.078, ttl=10, perf_time=1299284.078 => False\n",
      "DEBUG:neo4j.pool:[#0000]  _: <ROUTING> checking table freshness (readonly=False): table expired=False, has_server_for_mode=True, table routers={IPv4Address(('58c9bf7b.databases.neo4j.io', 7687))} => True\n",
      "DEBUG:neo4j.pool:[#0000]  _: <POOL> using existing routing table RoutingTable(database='neo4j' routers={IPv4Address(('58c9bf7b.databases.neo4j.io', 7687))}, readers={IPv4Address(('58c9bf7b.databases.neo4j.io', 7687))}, writers={IPv4Address(('58c9bf7b.databases.neo4j.io', 7687))}, last_updated_time=1299283.078, ttl=10)\n",
      "DEBUG:neo4j.pool:[#0000]  _: <POOL> acquire address, database='neo4j' address=IPv4Address(('58c9bf7b.databases.neo4j.io', 7687))\n",
      "DEBUG:neo4j.pool:[#CDB1]  _: <POOL> picked existing connection bolt-1559\n",
      "DEBUG:neo4j.pool:[#CDB1]  _: <POOL> checked re_auth auth=None updated=False force=False\n",
      "DEBUG:neo4j.pool:[#CDB1]  _: <POOL> handing out existing connection\n",
      "DEBUG:neo4j.io:[#CDB1]  C: TELEMETRY 2  # (<TelemetryAPI.AUTO_COMMIT: 2>)\n",
      "DEBUG:neo4j.io:[#CDB1]  C: RUN \"UNWIND $data AS row MATCH (n:`Chunk`) WHERE elementId(n) = row.id CALL db.create.setVectorProperty(n, 'chunk_embedding', row.embedding) YIELD node RETURN count(*)\" {'data': []} {'db': 'neo4j'}\n",
      "DEBUG:neo4j.io:[#CDB1]  C: PULL {'n': 1000}\n",
      "DEBUG:neo4j.io:[#CDB1]  S: SUCCESS {}\n",
      "DEBUG:neo4j.io:[#CDB1]  S: SUCCESS {'t_first': 5, 'fields': ['count(*)']}\n",
      "DEBUG:neo4j.io:[#CDB1]  _: <CONNECTION> server state: READY > STREAMING\n",
      "DEBUG:neo4j.io:[#CDB1]  S: RECORD * 1\n",
      "DEBUG:neo4j.io:[#CDB1]  S: SUCCESS {'bookmark': 'FB:kcwQFzOWRTl8TWOIQ18zCpU3d8kBmpA=', 'type': 'rw', 't_last': 1, 'db': 'neo4j', 'notifications': [{'severity': 'WARNING', 'description': \"The query used a deprecated procedure. ('db.create.setVectorProperty' has been replaced by 'db.create.setNodeVectorProperty')\", 'code': 'Neo.ClientNotification.Statement.FeatureDeprecationWarning', 'position': {'column': 67, 'offset': 66, 'line': 1}, 'title': 'This feature is deprecated and will be removed in future versions.', 'category': 'DEPRECATION'}]}\n",
      "DEBUG:neo4j.io:[#CDB1]  _: <CONNECTION> server state: STREAMING > READY\n",
      "DEBUG:neo4j.pool:[#CDB1]  _: <POOL> released bolt-1559\n",
      "WARNING:neo4j.notifications:Received notification from DBMS server: {severity: WARNING} {code: Neo.ClientNotification.Statement.FeatureDeprecationWarning} {category: DEPRECATION} {title: This feature is deprecated and will be removed in future versions.} {description: The query used a deprecated procedure. ('db.create.setVectorProperty' has been replaced by 'db.create.setNodeVectorProperty')} {position: line: 1, column: 67, offset: 66} for query: \"UNWIND $data AS row MATCH (n:`Chunk`) WHERE elementId(n) = row.id CALL db.create.setVectorProperty(n, 'chunk_embedding', row.embedding) YIELD node RETURN count(*)\"\n",
      "DEBUG:neo4j.pool:[#0000]  _: <POOL> close\n",
      "DEBUG:neo4j.io:[#C776]  C: GOODBYE\n",
      "DEBUG:neo4j.io:[#C776]  C: <CLOSE>\n",
      "DEBUG:neo4j.io:[#C777]  C: GOODBYE\n",
      "DEBUG:neo4j.io:[#C777]  C: <CLOSE>\n",
      "DEBUG:neo4j.pool:[#0000]  _: <POOL> close\n",
      "DEBUG:neo4j.io:[#C4FC]  C: GOODBYE\n",
      "DEBUG:neo4j.io:[#C4FC]  C: <CLOSE>\n",
      "DEBUG:neo4j.io:[#C4FD]  C: GOODBYE\n",
      "DEBUG:neo4j.io:[#C4FD]  C: <CLOSE>\n"
     ]
    }
   ],
   "source": [
    "import os\n",
    "from dotenv import load_dotenv \n",
    "from langchain.chains import RetrievalQAWithSourcesChain\n",
    "neo4j_vector_store = Neo4jVector.from_existing_graph(\n",
    "    embedding=MyEmbeddings(\"all-mpnet-base-v2\"),\n",
    "    url='neo4j+s://58c9bf7b.databases.neo4j.io',\n",
    "    username='neo4j',\n",
    "    password='ay-_KJMLLoPDmZGyMnsihIqMrJHdN4_eXV51UpNJXt0',\n",
    "    index_name='vector_index',\n",
    "    node_label='Chunk',\n",
    "    text_node_properties=['text'],\n",
    "    embedding_node_property='chunk_embedding',\n",
    "    retrieval_query=retrieval_query_window,\n",
    ")\n",
    "\n",
    "retriever = neo4j_vector_store.as_retriever()\n",
    "load_dotenv('keys.env')\n",
    "GOOGLE_API_KEY = os.getenv('GOOGLE_API_KEY')\n",
    "if not GOOGLE_API_KEY:\n",
    "    raise ValueError(\"Google API key is not set in environment variables.\")\n",
    "\n",
    "\n",
    "genai.configure(api_key=GOOGLE_API_KEY)\n",
    "\n",
    "model = ChatGoogleGenerativeAI(model=\"gemini-pro\",\n",
    "                                   client=genai,\n",
    "                                   temperature=0.3,\n",
    "                                   )\n",
    "\n",
    "chain = RetrievalQAWithSourcesChain.from_chain_type(\n",
    "    llm=model, \n",
    "    chain_type=\"stuff\", \n",
    "    retriever=retriever\n",
    ")\n",
    "\n",
    "def prettychain(question: str) -> str:\n",
    "    \"\"\"Pretty print the chain's response to a question\"\"\"\n",
    "    response = chain({\"question\": question}, return_only_outputs=True)\n",
    "    print(response)"
   ]
  },
  {
   "cell_type": "code",
   "execution_count": 63,
   "id": "aa86d54c",
   "metadata": {},
   "outputs": [
    {
     "name": "stdout",
     "output_type": "stream",
     "text": [
      "Retriever initialized successfully\n"
     ]
    }
   ],
   "source": [
    "# import logging\n",
    "# logging.basicConfig(level=logging.DEBUG)\n",
    "\n",
    "# try:\n",
    "#     retriever = neo4j_vector_store.as_retriever()\n",
    "#     print(\"Retriever initialized successfully\")\n",
    "# except Exception as e:\n",
    "#     logging.error(\"Error initializing retriever\", exc_info=True)"
   ]
  },
  {
   "cell_type": "code",
   "execution_count": 52,
   "id": "ecd26f3d",
   "metadata": {},
   "outputs": [
    {
     "name": "stdout",
     "output_type": "stream",
     "text": [
      "content=\"**Stem Cells**\\n\\nStem cells are unspecialized cells that have the potential to develop into any cell type in the body. They are found in both embryos and adults.\\n\\n**Types of Stem Cells:**\\n\\n* **Embryonic stem cells (ESCs)**: Derived from the inner cell mass of a blastocyst (early embryo). They are pluripotent, meaning they can develop into any cell type in the body.\\n* **Adult stem cells (ASCs)**: Found in various tissues and organs throughout the body. They are multipotent, meaning they can develop into a limited number of cell types specific to their tissue of origin.\\n* **Induced pluripotent stem cells (iPSCs)**: Created by reprogramming adult cells back to an embryonic-like state. They are similar to ESCs in their pluripotency.\\n\\n**Characteristics of Stem Cells:**\\n\\n* **Self-renewal:** Stem cells can divide and produce new stem cells, maintaining their population over time.\\n* **Differentiation:** Stem cells can differentiate into specialized cell types, such as muscle cells, nerve cells, or blood cells.\\n* **Plasticity:** Some stem cells have the ability to differentiate into cell types outside their normal lineage.\\n\\n**Applications of Stem Cells:**\\n\\n* **Regenerative medicine:** Stem cells can be used to repair damaged tissues and organs, such as in spinal cord injuries or heart disease.\\n* **Drug development:** Stem cells can be used to test new drugs and therapies in a controlled environment.\\n* **Disease modeling:** Stem cells can be used to create models of diseases, such as Parkinson's or Alzheimer's, to study their mechanisms and develop treatments.\\n\\n**Ethical Considerations:**\\n\\n* **Embryonic stem cells:** The use of ESCs raises ethical concerns due to the destruction of embryos.\\n* **Induced pluripotent stem cells:** iPSCs offer an alternative to ESCs, as they are derived from adult cells. However, there are still concerns about their safety and potential for tumor formation.\\n\\n**Future of Stem Cell Research:**\\n\\nStem cell research holds great promise for advancing medical treatments and understanding human biology. Ongoing research focuses on:\\n\\n* Improving the safety and efficiency of stem cell therapies\\n* Developing new methods for generating and differentiating stem cells\\n* Exploring the potential of stem cells in treating a wide range of diseases\" response_metadata={'prompt_feedback': {'block_reason': 0, 'safety_ratings': []}, 'finish_reason': 'STOP', 'safety_ratings': [{'category': 'HARM_CATEGORY_SEXUALLY_EXPLICIT', 'probability': 'NEGLIGIBLE', 'blocked': False}, {'category': 'HARM_CATEGORY_HATE_SPEECH', 'probability': 'NEGLIGIBLE', 'blocked': False}, {'category': 'HARM_CATEGORY_HARASSMENT', 'probability': 'NEGLIGIBLE', 'blocked': False}, {'category': 'HARM_CATEGORY_DANGEROUS_CONTENT', 'probability': 'NEGLIGIBLE', 'blocked': False}]} id='run-a6eda129-a174-4bd9-935f-1d6c6bf7a74d-0' usage_metadata={'input_tokens': 6, 'output_tokens': 482, 'total_tokens': 488}\n"
     ]
    }
   ],
   "source": [
    "# response = model.invoke(\"tell me about stem cells\")\n",
    "# print(response)"
   ]
  },
  {
   "cell_type": "code",
   "execution_count": 79,
   "id": "c430a663",
   "metadata": {},
   "outputs": [
    {
     "data": {
      "application/vnd.jupyter.widget-view+json": {
       "model_id": "97751d7bab4248e196e0ca6f0afcd120",
       "version_major": 2,
       "version_minor": 0
      },
      "text/plain": [
       "Batches:   0%|          | 0/1 [00:00<?, ?it/s]"
      ]
     },
     "metadata": {},
     "output_type": "display_data"
    },
    {
     "name": "stderr",
     "output_type": "stream",
     "text": [
      "DEBUG:neo4j.pool:[#0000]  _: <POOL> acquire routing connection, access_mode='WRITE', database='neo4j'\n",
      "DEBUG:neo4j.pool:[#0000]  _: <POOL> routing aged?, database=None\n",
      "DEBUG:neo4j.pool:[#0000]  _: <ROUTING> purge check: last_updated_time=1299282.515, ttl=0, perf_time=1299301.234 => False\n",
      "DEBUG:neo4j.pool:[#0000]  _: <POOL> routing aged?, database=neo4j\n",
      "DEBUG:neo4j.pool:[#0000]  _: <ROUTING> purge check: last_updated_time=1299283.078, ttl=10, perf_time=1299301.25 => False\n",
      "DEBUG:neo4j.pool:[#0000]  _: <ROUTING> checking table freshness (readonly=False): table expired=True, has_server_for_mode=True, table routers={IPv4Address(('58c9bf7b.databases.neo4j.io', 7687))} => False\n",
      "DEBUG:neo4j.pool:[#0000]  _: <POOL> attempting to update routing table from IPv4Address(('58c9bf7b.databases.neo4j.io', 7687))\n",
      "DEBUG:neo4j.io:[#0000]  _: <RESOLVE> in: 58c9bf7b.databases.neo4j.io:7687\n",
      "DEBUG:neo4j.io:[#0000]  _: <RESOLVE> dns resolver out: 34.78.76.49:7687\n",
      "DEBUG:neo4j.pool:[#0000]  _: <POOL> _acquire router connection, database='neo4j', address=ResolvedIPv4Address(('34.78.76.49', 7687))\n",
      "DEBUG:neo4j.pool:[#CDAF]  _: <POOL> picked existing connection bolt-1558\n",
      "DEBUG:neo4j.pool:[#CDAF]  _: <POOL> checked re_auth auth=None updated=False force=False\n",
      "DEBUG:neo4j.pool:[#CDAF]  _: <POOL> handing out existing connection\n",
      "DEBUG:neo4j.io:[#CDAF]  C: ROUTE {'address': '58c9bf7b.databases.neo4j.io:7687'} () {'db': 'neo4j'}\n",
      "DEBUG:neo4j.io:[#CDAF]  S: SUCCESS {'rt': {'servers': [{'addresses': ['58c9bf7b.databases.neo4j.io:7687'], 'role': 'WRITE'}, {'addresses': ['58c9bf7b.databases.neo4j.io:7687'], 'role': 'READ'}, {'addresses': ['58c9bf7b.databases.neo4j.io:7687'], 'role': 'ROUTE'}], 'ttl': 10, 'db': 'neo4j'}}\n",
      "DEBUG:neo4j.pool:[#CDAF]  _: <POOL> released bolt-1558\n",
      "DEBUG:neo4j.pool:[#0000]  _: <ROUTING> updated table=RoutingTable(database='neo4j' routers={IPv4Address(('58c9bf7b.databases.neo4j.io', 7687))}, readers={IPv4Address(('58c9bf7b.databases.neo4j.io', 7687))}, writers={IPv4Address(('58c9bf7b.databases.neo4j.io', 7687))}, last_updated_time=1299301.312, ttl=10)\n",
      "DEBUG:neo4j.pool:[#0000]  _: <POOL> update routing table from address=ResolvedIPv4Address(('34.78.76.49', 7687)) (RoutingTable(database='neo4j' routers={IPv4Address(('58c9bf7b.databases.neo4j.io', 7687))}, readers={IPv4Address(('58c9bf7b.databases.neo4j.io', 7687))}, writers={IPv4Address(('58c9bf7b.databases.neo4j.io', 7687))}, last_updated_time=1299301.312, ttl=10))\n",
      "DEBUG:neo4j.pool:[#0000]  _: <POOL> acquire address, database='neo4j' address=IPv4Address(('58c9bf7b.databases.neo4j.io', 7687))\n",
      "DEBUG:neo4j.pool:[#CDB1]  _: <POOL> picked existing connection bolt-1559\n",
      "DEBUG:neo4j.pool:[#CDB1]  _: <POOL> checked re_auth auth=None updated=False force=False\n",
      "DEBUG:neo4j.pool:[#CDB1]  _: <POOL> handing out existing connection\n",
      "DEBUG:neo4j.io:[#CDB1]  C: TELEMETRY 2  # (<TelemetryAPI.AUTO_COMMIT: 2>)\n",
      "DEBUG:neo4j.io:[#CDB1]  C: RUN 'CALL db.index.vector.queryNodes($index, $k, $embedding) YIELD node, score \\nMATCH window = (:Chunk)-[:NEXT*0..1]->(node:Chunk)-[:NEXT*0..1]->(:Chunk)\\nWITH node, window\\nORDER BY length(window) DESC LIMIT 1\\nWITH nodes(window) as chunkList, node\\nUNWIND chunkList as chunkRows\\nWITH collect(chunkRows.text) as textList, node\\nRETURN apoc.text.join(textList, \" \\n \") as text,\\n       node.score as score,\\n       node {.source} AS metadata\\n' {'index': 'vector_index', 'k': 4, 'embedding': array([ 4.21912735e-03, -8.98435712e-02,  3.89980571e-03, -2.69746184e-02,\n",
      "        3.22196670e-02,  2.10450161e-02, -1.17004267e-03,  1.00121973e-02,\n",
      "       -3.42677310e-02,  1.41712055e-02,  2.84223501e-02,  3.64697017e-02,\n",
      "        9.48956888e-03,  5.08894958e-02,  2.97108702e-02,  3.76477055e-02,\n",
      "        1.21283941e-02, -2.11395901e-02, -9.02913287e-02, -2.91093364e-02,\n",
      "       -3.86040024e-02, -2.56297030e-02, -3.21786962e-02, -2.16310807e-02,\n",
      "        1.66904870e-02, -4.92713414e-02,  2.99947225e-02,  2.72769835e-02,\n",
      "       -5.19247307e-03,  1.69268169e-03,  1.34562270e-03, -2.52914429e-02,\n",
      "        2.09682211e-02,  3.27309519e-02,  1.61077980e-06, -6.47438020e-02,\n",
      "        2.45239362e-02,  3.37709188e-02, -2.50894986e-02,  8.04822333e-03,\n",
      "        4.85089384e-02,  2.27408223e-02,  2.29670741e-02,  3.54277194e-02,\n",
      "       -8.64946749e-03,  1.00577019e-01,  1.30237285e-02, -2.51209307e-02,\n",
      "        1.93076162e-03, -2.38778703e-02,  2.65719253e-03, -1.38857672e-02,\n",
      "       -8.79772455e-02, -1.96836423e-02, -2.87413355e-02, -6.81723580e-02,\n",
      "       -4.13265266e-03,  2.49572061e-02,  4.62878533e-02,  1.20402556e-02,\n",
      "        5.41411387e-03,  7.22540636e-03, -7.81870708e-02, -1.63795110e-02,\n",
      "        5.04351296e-02,  5.91376051e-02,  1.03705443e-01,  1.75787881e-02,\n",
      "       -2.34730616e-02, -2.85807550e-02,  5.33250049e-02, -1.08000208e-02,\n",
      "        1.34522691e-02,  1.31175760e-02, -7.61063443e-03,  3.12768761e-03,\n",
      "       -5.35228872e-04, -2.01103278e-03, -2.47534458e-02,  3.97051647e-02,\n",
      "       -1.43373283e-02,  2.09555533e-02,  1.08610662e-02,  5.37721254e-03,\n",
      "       -1.61729809e-02,  4.50946540e-02, -3.55342403e-02, -2.96076834e-02,\n",
      "        1.21669257e-02, -1.43552125e-02,  1.00231068e-02,  2.10119262e-02,\n",
      "        3.11259646e-02,  1.18682040e-02, -4.46431227e-02, -2.69775745e-02,\n",
      "        4.84711081e-02, -3.02771423e-02, -2.45481986e-03,  1.75516792e-02,\n",
      "       -9.98065341e-03, -3.12651880e-02,  2.69734077e-02, -2.74099293e-03,\n",
      "        2.56501082e-02,  1.86588466e-02,  1.11319376e-02,  2.85981242e-02,\n",
      "       -6.37195706e-02, -1.18613709e-03, -3.41196693e-02,  9.96340881e-04,\n",
      "        4.40380387e-02,  2.50280388e-02, -4.32979874e-02,  5.39493710e-02,\n",
      "       -2.29504555e-02, -1.05883526e-02, -1.44619066e-02,  4.99170944e-02,\n",
      "       -3.29289236e-04, -1.14878938e-02, -3.27824242e-02,  2.68399175e-02,\n",
      "       -4.91815340e-03,  2.33288929e-02, -2.88087763e-02, -7.20986445e-03,\n",
      "        5.48186898e-02,  8.40448514e-02, -8.93193996e-04, -4.24631163e-02,\n",
      "       -3.81406620e-02,  1.96852516e-02,  1.09258126e-02,  2.53248718e-02,\n",
      "       -3.09402514e-02,  3.38658392e-02, -1.69772916e-02, -5.39384177e-03,\n",
      "       -1.09025789e-02, -9.68307536e-03,  4.91567329e-02,  5.14434129e-02,\n",
      "       -6.25173002e-03,  4.10696752e-02, -2.48095933e-02,  8.09474587e-02,\n",
      "        5.29678306e-03, -2.58074831e-02, -6.10250235e-03, -2.79053468e-02,\n",
      "        1.41276196e-02, -1.26652271e-02,  4.15064171e-02,  2.07979660e-02,\n",
      "        1.02234505e-01, -3.11324783e-02, -1.92925017e-02,  3.29683013e-02,\n",
      "        2.02766135e-02,  2.61747316e-02, -2.82730795e-02,  1.81765836e-02,\n",
      "       -3.04554701e-02,  5.74105233e-02,  1.86015794e-03,  1.71566997e-02,\n",
      "       -8.80724266e-02,  2.93017365e-02,  1.70500763e-02, -1.86584564e-03,\n",
      "       -4.20431048e-03,  7.59940082e-03, -9.87787452e-03, -2.66339649e-02,\n",
      "       -1.35161560e-02,  3.34153362e-02, -2.18237210e-02,  1.26774805e-02,\n",
      "        1.93680469e-02, -5.49315736e-02,  6.30118325e-02, -4.78521967e-03,\n",
      "        2.99648773e-02,  4.71432023e-02, -3.94321084e-02, -1.04630217e-02,\n",
      "       -2.45869569e-02, -2.21783593e-02, -2.90399138e-02, -3.59473489e-02,\n",
      "       -6.75589293e-02,  3.34642641e-02,  3.52764353e-02, -1.72233917e-02,\n",
      "        5.92839904e-02,  2.75501739e-02,  2.47981641e-02,  7.10685505e-04,\n",
      "       -3.33858021e-02, -4.58037034e-02, -4.43886332e-02,  4.22630161e-02,\n",
      "        1.42017170e-03, -3.79544757e-02, -3.63623798e-02, -7.07148984e-02,\n",
      "       -5.37747778e-02,  2.55156327e-02,  1.68721876e-04, -2.63580140e-02,\n",
      "        7.52103999e-02, -1.67643148e-02, -5.65770036e-03, -1.89349824e-03,\n",
      "        1.08569888e-02, -8.93889926e-03, -3.00085600e-02, -2.17994433e-02,\n",
      "       -2.82908846e-02, -6.32210821e-02,  1.14367194e-02, -1.26734274e-02,\n",
      "        9.56406258e-03,  4.06369045e-02,  4.44877222e-02, -5.69482632e-02,\n",
      "        4.20430526e-02,  4.51997183e-02,  2.12564389e-03,  1.61165986e-02,\n",
      "        1.99131649e-02,  2.20716442e-03,  1.97654609e-02,  5.51758055e-03,\n",
      "        2.24600476e-03,  1.50825372e-02, -1.61310658e-02, -2.95067411e-02,\n",
      "       -1.96820634e-04,  3.58773544e-02,  1.53813493e-02, -1.91955734e-03,\n",
      "       -1.90323573e-02, -9.35894344e-03, -4.57997583e-02,  1.67255215e-02,\n",
      "        1.22124162e-02,  3.81170097e-03, -4.07639006e-03, -5.13146520e-02,\n",
      "       -3.46228741e-02, -2.46941242e-02,  1.77006237e-02,  4.62099090e-02,\n",
      "       -5.29248603e-02,  4.36618403e-02, -2.66697966e-02,  2.20984849e-03,\n",
      "       -2.93601919e-02, -4.82533164e-02,  4.44398494e-03, -3.32122743e-02,\n",
      "        1.08138460e-03, -1.07268877e-02, -3.64266820e-02, -5.55556752e-02,\n",
      "       -4.17525806e-02,  2.99972296e-02,  8.35101772e-03,  4.17310260e-02,\n",
      "        3.83762941e-02,  1.58288062e-03,  1.87130813e-02,  2.74643470e-02,\n",
      "       -4.79669776e-03,  2.21068505e-02, -6.09216690e-02,  3.44526954e-02,\n",
      "        3.23792733e-02,  9.88037363e-02, -3.61577161e-02,  1.55436760e-03,\n",
      "       -2.70008389e-02,  1.42286653e-02, -4.21119202e-03, -1.86851609e-03,\n",
      "        7.56124826e-03, -1.35472547e-02, -2.52043977e-02, -7.14123380e-05,\n",
      "       -7.56622851e-03, -3.15988660e-02, -5.77964773e-03,  7.41216680e-03,\n",
      "        1.69409486e-03,  4.80139852e-02,  2.16817204e-02,  7.61618093e-02,\n",
      "        1.13510492e-03, -2.94329859e-02,  2.70110629e-02, -6.26426935e-03,\n",
      "        1.49588124e-03,  3.43595445e-02,  2.26036087e-03,  2.05580387e-02,\n",
      "       -4.52530682e-02,  1.29086692e-02,  1.61615498e-02,  2.82080378e-03,\n",
      "        9.17709991e-02, -1.94865726e-02,  7.68702775e-02, -2.55321842e-02,\n",
      "        2.31451243e-02,  6.72439858e-02, -3.60278152e-02, -1.67734958e-02,\n",
      "        3.87628898e-02, -2.62946170e-02, -1.83757097e-02, -4.09535803e-02,\n",
      "       -4.07370292e-02, -3.82621698e-02, -5.78160323e-02,  3.26743796e-02,\n",
      "       -4.99771237e-02, -8.69690031e-02,  1.81004908e-02, -4.28926311e-02,\n",
      "       -1.94142852e-02,  2.42628735e-02, -4.72319350e-02, -3.02839205e-02,\n",
      "       -4.25649993e-02, -8.65263268e-02, -1.29709365e-02, -5.32942265e-03,\n",
      "       -1.70992240e-02,  8.50985870e-02, -5.82989166e-03, -9.30917636e-03,\n",
      "       -1.22859068e-02,  3.52664338e-03, -5.15452633e-03,  4.46397066e-02,\n",
      "       -6.23058565e-02,  4.13299259e-03,  6.84116408e-02,  3.91824283e-02,\n",
      "       -3.09800240e-03,  1.25196632e-02, -1.93312503e-02, -3.52929495e-02,\n",
      "        8.61049350e-03,  8.70493893e-03,  6.73426781e-03, -4.69427668e-02,\n",
      "        8.06706492e-03, -2.57910485e-03, -1.53324828e-02, -4.63314168e-02,\n",
      "        1.67207196e-02, -4.04859222e-02,  3.91863957e-02, -3.26975062e-03,\n",
      "        4.36406285e-02,  4.40650545e-02,  1.16853034e-02,  9.93226003e-03,\n",
      "       -7.59257525e-02,  1.66173074e-02, -1.88813694e-02, -6.69371383e-03,\n",
      "        1.39599293e-02, -2.62118614e-04, -1.79448463e-02,  2.91275978e-02,\n",
      "       -1.54877536e-03,  8.79316311e-03,  3.87883186e-02,  1.96651034e-02,\n",
      "        4.47022207e-02,  3.11431615e-03,  7.91344326e-03,  3.00542619e-02,\n",
      "        8.14804435e-02, -5.05137024e-04, -9.88604315e-03, -1.55591369e-01,\n",
      "       -5.59871420e-02,  9.58321691e-02, -4.53584343e-02,  5.29113971e-02,\n",
      "       -1.45463319e-02, -2.03008037e-02,  1.52153727e-02,  1.12344474e-02,\n",
      "        5.72381727e-03, -1.21353858e-03, -4.41793613e-02,  4.57899012e-02,\n",
      "       -1.74273811e-02,  1.87449995e-02,  4.15347703e-02, -3.58277857e-02,\n",
      "       -4.45686653e-02, -3.69669870e-02,  3.26731466e-02, -1.87617447e-02,\n",
      "        1.38785588e-02, -4.62978706e-02,  1.44587259e-03, -5.65487184e-02,\n",
      "       -8.08101147e-03,  7.46981660e-03, -5.11656515e-03,  3.26206163e-02,\n",
      "        3.79494205e-02, -2.23043002e-03,  2.30586678e-02, -4.87420633e-02,\n",
      "        4.71225195e-03, -1.49758700e-02,  9.97744501e-03,  2.07235664e-02,\n",
      "       -1.17473854e-02, -1.96519382e-02,  2.47827638e-02,  3.35427038e-02,\n",
      "       -4.18106802e-02,  3.90008986e-02,  6.79329261e-02,  1.38211288e-02,\n",
      "        4.06829715e-02, -3.25177312e-02, -5.37795853e-03,  5.12266681e-02,\n",
      "        3.28008342e-03,  3.90873253e-02,  3.04616727e-02, -4.25344333e-02,\n",
      "        1.70275681e-02,  9.31447838e-03, -2.62153950e-02, -4.18440141e-02,\n",
      "        1.15946159e-02, -3.84923369e-02,  4.84846793e-02, -1.51891224e-02,\n",
      "       -1.68202613e-02, -2.25857664e-02,  1.49985794e-02, -6.15476444e-02,\n",
      "       -1.51819348e-01,  2.41810475e-02, -2.35866457e-02, -6.06553182e-02,\n",
      "        5.68351857e-02,  2.99246553e-02, -2.37775892e-02,  8.10182281e-03,\n",
      "        2.79578324e-02,  1.28077911e-02, -1.51756443e-02,  1.91246402e-02,\n",
      "       -1.28536485e-02, -1.42272189e-02,  9.94506851e-03, -9.88506246e-03,\n",
      "       -4.82846983e-02,  3.08877826e-02, -1.22114178e-02, -2.58587506e-02,\n",
      "        2.44930591e-02,  3.75079177e-02, -2.07130983e-02,  2.07296386e-03,\n",
      "        3.53878215e-02,  2.90537737e-02,  1.56375356e-02,  8.61905608e-03,\n",
      "        6.13284390e-03,  2.29320619e-02, -3.87888104e-02,  1.93719231e-02,\n",
      "        2.85242200e-02, -4.10322286e-02,  2.79978365e-02, -1.28738917e-02,\n",
      "        8.40449426e-03, -6.13442659e-02, -2.96283122e-02, -9.93113313e-03,\n",
      "        9.02851764e-03,  3.80580612e-02, -8.97103474e-02, -3.77469175e-02,\n",
      "       -1.72274699e-03, -1.02827847e-02, -2.05342118e-02, -5.99342100e-02,\n",
      "        2.61592511e-02, -4.66208309e-02, -1.33962240e-02,  5.92646487e-02,\n",
      "       -4.94892520e-05,  4.08549495e-02,  4.81706820e-02,  1.79656278e-02,\n",
      "        3.95394154e-02,  1.40099823e-02,  3.43290567e-02,  4.74284552e-02,\n",
      "        4.81029088e-03,  1.21809380e-05,  2.12822631e-02,  4.69843596e-02,\n",
      "        6.90049455e-02, -7.85393789e-02,  3.36649641e-02, -1.87478848e-02,\n",
      "        4.82161269e-02,  3.99961649e-03,  1.61018353e-02, -1.23274131e-02,\n",
      "        2.35131234e-02,  2.84726713e-02, -3.03156511e-03, -4.66774218e-02,\n",
      "        2.69673150e-02, -3.30463387e-02, -1.81946885e-02,  9.75332130e-03,\n",
      "       -2.34067552e-02,  8.17445517e-02,  1.08486256e-02,  5.44995740e-02,\n",
      "       -2.48365328e-02,  1.55207850e-02,  6.95527941e-02,  3.73906083e-03,\n",
      "        3.63511825e-03, -7.34060928e-02,  1.19593432e-02,  2.84689218e-02,\n",
      "       -1.26896787e-03, -1.04268026e-02, -1.83706693e-02,  3.16662081e-02,\n",
      "        7.81080723e-02,  1.46294739e-02,  2.71962825e-02, -5.53173793e-33,\n",
      "        6.09396491e-03, -3.31928860e-03,  2.09445283e-02,  3.39503624e-02,\n",
      "       -2.15298906e-02, -6.67868108e-02, -1.87261086e-02, -1.64785888e-02,\n",
      "       -4.01007645e-02, -2.15404145e-02,  8.35291576e-03, -1.15374755e-02,\n",
      "        1.85579676e-02,  3.77045311e-02,  2.03445572e-02,  4.80030030e-02,\n",
      "       -1.53296934e-02,  2.87753884e-02,  4.29591426e-04, -6.02513142e-02,\n",
      "       -1.99023969e-02, -1.33174090e-02,  1.94851402e-02,  2.04277691e-02,\n",
      "       -4.57090810e-02, -1.10796057e-02,  3.05292960e-02, -3.55317481e-02,\n",
      "       -2.52522230e-02, -4.83585782e-02,  3.73129174e-02, -2.21793517e-03,\n",
      "        3.19612212e-02,  4.38069105e-02,  1.60716046e-02,  1.91894290e-03,\n",
      "       -2.41694339e-02,  4.20752205e-02, -3.03532686e-02,  1.40619697e-02,\n",
      "        6.51277229e-03, -1.56566072e-02,  2.42552422e-02, -3.31172608e-02,\n",
      "       -2.74393847e-03, -5.75680360e-02, -2.47629695e-02, -9.19512939e-04,\n",
      "       -2.22302116e-02, -8.35155845e-02, -1.28809940e-02, -1.04893243e-03,\n",
      "       -1.85922273e-02,  4.31823879e-02, -3.88064496e-02, -9.38108861e-02,\n",
      "        1.53347496e-02,  5.17176464e-02,  1.13147102e-01,  5.11618191e-03,\n",
      "       -1.71364658e-02,  7.05792680e-02, -1.44721649e-03, -9.36650950e-03,\n",
      "       -3.53856236e-02, -6.05827868e-02, -1.82304028e-02,  4.29749209e-03,\n",
      "        8.40849355e-02,  3.58108282e-02, -1.20299263e-02,  9.91840195e-03,\n",
      "       -2.40804022e-03,  6.35848904e-04, -5.49357012e-02, -6.61020055e-02,\n",
      "       -7.38530234e-03, -2.91797780e-02, -2.58476418e-02,  4.23076451e-02,\n",
      "       -3.55914384e-02,  2.26118676e-02,  1.39304539e-02,  1.76466871e-02,\n",
      "       -2.78068129e-02, -9.94960032e-03, -1.76211782e-02,  8.82761627e-02,\n",
      "        2.86563188e-02,  1.37981377e-03, -1.07493233e-02,  9.33551788e-02,\n",
      "       -2.82504167e-02,  3.17920893e-02,  6.28840029e-02, -1.01003401e-01,\n",
      "        7.89887905e-02, -3.95909743e-03, -1.21699208e-02,  8.09295569e-04,\n",
      "       -7.12209195e-02,  1.67466830e-02, -2.58832127e-02,  2.42333728e-04,\n",
      "       -1.23363687e-03,  3.95632572e-02, -3.56941521e-02, -3.95092256e-02,\n",
      "        7.14042224e-03,  2.89975163e-02,  1.25642437e-02, -4.86955140e-03,\n",
      "       -3.58192064e-02, -3.30015197e-02, -1.75129902e-02, -6.31435364e-02,\n",
      "       -1.21661769e-02, -5.59459142e-02, -1.97414756e-02, -1.74324363e-02,\n",
      "       -2.09507383e-02, -6.86303377e-02, -3.26603116e-03,  2.61795502e-02,\n",
      "       -2.09460221e-02,  6.26846775e-02, -9.03244410e-03,  1.37776406e-02,\n",
      "        4.36909944e-02,  1.62061192e-02,  1.77712776e-02, -1.86780188e-02,\n",
      "        2.15413095e-07, -1.86481662e-02,  8.95885229e-02,  9.11177718e-04,\n",
      "       -3.57975601e-03,  9.28748399e-03,  3.32908519e-03, -2.55401190e-02,\n",
      "       -2.73242756e-03,  1.74648110e-02,  5.65687716e-02, -3.55417021e-02,\n",
      "       -1.48236956e-02, -1.05237681e-02, -3.33521105e-02,  2.34271865e-02,\n",
      "        1.64474510e-02, -4.03670222e-03,  1.19932201e-02,  1.09286970e-02,\n",
      "        2.31011137e-02, -5.76251447e-02, -1.86245888e-02, -1.98392291e-02,\n",
      "        1.51423458e-02,  4.54499898e-03, -8.98939520e-02, -1.50954686e-02,\n",
      "        2.70519331e-02,  5.87889776e-02, -6.88723847e-03,  8.75359252e-02,\n",
      "        4.89761354e-04,  3.79716568e-02,  1.59666818e-02, -1.68000301e-03,\n",
      "       -5.46574928e-02, -5.83850220e-03,  3.94405164e-02, -1.53527874e-02,\n",
      "        1.94511041e-02,  1.76746189e-03, -5.15238270e-02, -5.19269239e-03,\n",
      "        4.77120467e-02,  1.07067602e-03, -2.67724320e-02,  7.15948688e-03,\n",
      "       -1.67770386e-02, -7.10378364e-02, -1.23687778e-02, -5.52051365e-02,\n",
      "        5.10080829e-02, -1.15310224e-02, -1.25199007e-02,  2.20795814e-02,\n",
      "        1.05948308e-02,  3.75893973e-02,  4.04988639e-02,  2.02369820e-02,\n",
      "       -8.24660528e-03, -2.29881220e-02, -8.44241455e-02,  4.71120812e-02,\n",
      "       -1.46942318e-03,  3.23111750e-02, -4.81398888e-02, -1.03511706e-01,\n",
      "        1.40299223e-34,  3.91707607e-02, -1.15663502e-02, -3.56266787e-03,\n",
      "        3.38478982e-02, -7.11898180e-03, -4.78006452e-02, -8.88727978e-02,\n",
      "        1.16517106e-02, -4.20479150e-03,  2.43493486e-02, -5.48692830e-02],\n",
      "      dtype=float32), 'keyword_index': 'keyword', 'query': 'tell me about MSCs'} {'db': 'neo4j'}\n"
     ]
    },
    {
     "name": "stderr",
     "output_type": "stream",
     "text": [
      "DEBUG:neo4j.io:[#CDB1]  C: PULL {'n': 1000}\n",
      "DEBUG:neo4j.io:[#CDB1]  S: SUCCESS {}\n",
      "DEBUG:neo4j.io:[#CDB1]  S: SUCCESS {'t_first': 4, 'fields': ['text', 'score', 'metadata']}\n",
      "DEBUG:neo4j.io:[#CDB1]  _: <CONNECTION> server state: READY > STREAMING\n",
      "DEBUG:neo4j.io:[#CDB1]  S: RECORD * 1\n",
      "DEBUG:neo4j.io:[#CDB1]  S: SUCCESS {'bookmark': 'FB:kcwQFzOWRTl8TWOIQ18zCpU3d8kBmpA=', 'type': 'r', 't_last': 4, 'db': 'neo4j', 'notifications': [{'severity': 'WARNING', 'description': \"One of the property names in your query is not available in the database, make sure you didn't misspell it or that the label is available when you run this statement in your application (the missing property name is: score)\", 'code': 'Neo.ClientNotification.Statement.UnknownPropertyKeyWarning', 'position': {'column': 13, 'offset': 384, 'line': 11}, 'title': 'The provided property key is not in the database', 'category': 'UNRECOGNIZED'}]}\n",
      "DEBUG:neo4j.io:[#CDB1]  _: <CONNECTION> server state: STREAMING > READY\n",
      "DEBUG:neo4j.pool:[#CDB1]  _: <POOL> released bolt-1559\n",
      "WARNING:neo4j.notifications:Received notification from DBMS server: {severity: WARNING} {code: Neo.ClientNotification.Statement.UnknownPropertyKeyWarning} {category: UNRECOGNIZED} {title: The provided property key is not in the database} {description: One of the property names in your query is not available in the database, make sure you didn't misspell it or that the label is available when you run this statement in your application (the missing property name is: score)} {position: line: 11, column: 13, offset: 384} for query: 'CALL db.index.vector.queryNodes($index, $k, $embedding) YIELD node, score \\nMATCH window = (:Chunk)-[:NEXT*0..1]->(node:Chunk)-[:NEXT*0..1]->(:Chunk)\\nWITH node, window\\nORDER BY length(window) DESC LIMIT 1\\nWITH nodes(window) as chunkList, node\\nUNWIND chunkList as chunkRows\\nWITH collect(chunkRows.text) as textList, node\\nRETURN apoc.text.join(textList, \" \\n \") as text,\\n       node.score as score,\\n       node {.source} AS metadata\\n'\n"
     ]
    },
    {
     "name": "stdout",
     "output_type": "stream",
     "text": [
      "Context 1: page_content='indicating engraftment of MSCs [8, 109, 125, 126]. Al- though MSCs home to the injured sites of kidney via blood circulation after transplantation, the renal MSC engraftment was scarce and transient. Most of injected MSCs remain in other blood-rich organs, such as the lung, liver, and spleen. The numbers of MSC-derived epithelial cells appear to be so low to explain tissue re- covery or wound healing (≤0.1%), and the hypothesis could not explain the rapid protective effect of injected MSCs which occurred within 24–48 h as well. All these facts suggest that the effects of MSCs may be mediated by another mechanism. The research conducted by Tögel et al. has made a breakthrough in this field. The study reported that differentiation of rat BM-MSCs into a tubular or endothelial cell phenotype was not observed in an ischemic/reperfusion experimental model of AKI. But the expression of proinflammatory cytokines IL-1β, TNF-α, IFN-γ, and inducible nitric oxide synthase showed significant reduction, and that of anti- inflammatory factors IL-10 and bFGF, TGF-α, and Bcl-2 was highly upregulated in the treated kidneys [127]. These studies showed consistent results, in which MSC- conditioned media improved the survival of human proximal tubular cells when exposed to cisplatin in vitro[10, 128, 129]. Now, there is a growing consensus that kidney-protective effects of MSCs are primarily exerted by their paracrine function rather than by direct engraftment. \n",
      " MSCs secrete a broad repertoire of cytokines, chemo- kines, and growth factors, including IL-6 and IL-11, vas- cular endothelial growth factor (VEGF), granulocyte- colony stimulating factor (G-CSF), macrophage-colony stimulating factor (M-CSF), basic fibroblast growth fac- tor (bFGF), monocyte-chemoattractant protein-1 (MCP- 1), insulin-like growth factor (IGF), leukemia inhibitory factor (LIF), and hepatocyte growth HGF[10, 130–133]. These contribute in renal protection by promoting pro- liferation of epithelial cells and angiogenesis, anti- apoptosis, anti-inflammatory, anti-fibrosis, and other sig- naling pathways[10, 134–136]. Moreover, accumulating evidence also underlined the paracrine actions mediated by extracellular vesicles (EVs), small anuclear Fig.2The diverse mechanism of MSCs in the treatment of kidney diseases Liu et al. Stem Cell Research & Therapy     (2020) 11:249 Page 7 of 20 \n",
      " membrane-bound particles released from MSCs as a paracrine vehicle to deliver messenger RNA (mRNA), microRNAs, proteins, or bioactive lipids that may repro- gram the injured cells or induce secretion of cytoprotec- tive factors [137, 138]. The EVs mainly include exosomes (30–100 nm) that are formed from multivesi- cular bodies through inward budding of endosome membrane [139] and microvesicles (100–1000 nm) that are released from the cell by outward budding of plasma membrane [140]. Indeed, it has been shown that MSC- derived EVs (MSC-EVs) accelerate renal repair in acute kidney injury (AKI) models. Bruno et al. have demon- strated the protective effects of MSC-EVs in tubular epi- thelial cells of severe combined immunodeficient (SCID) mice in glycerol-induced AKI. RNase treatment abro- gated the protective effects, suggesting an RNA- dependent mechanism and the occurrence of horizontal transfer of human mRNAs in MSC-EVs to target cells [141]. Similar results were obtained by Gatti et al.[142] and Zou et al.[143]. Injections of MSC-EVs reduced the progression of renal injury in experimental models of CKD that was induced by 5/6 nephrectomy [144] and unilateral ureteral obstruction[145, 146]. Eirin and his colleagues have tested the therapeutic effects of EVs in a porcine model with coexistence of RVD and metabolic syndrome.' metadata={'source': 'My_pdf.pdf'}\n",
      "1\n"
     ]
    }
   ],
   "source": [
    "\n",
    "retrieved_context = retriever.get_relevant_documents(\"tell me about MSCs\")\n",
    "\n",
    "# Inspect or print the retrieved context\n",
    "for i, context in enumerate(retrieved_context):\n",
    "    print(f\"Context {i+1}: {context}\")\n",
    "print(i+1)"
   ]
  },
  {
   "cell_type": "code",
   "execution_count": 81,
   "id": "dab1daeb",
   "metadata": {},
   "outputs": [
    {
     "data": {
      "application/vnd.jupyter.widget-view+json": {
       "model_id": "b2b1a793a8c34d52b2b16577f95af799",
       "version_major": 2,
       "version_minor": 0
      },
      "text/plain": [
       "Batches:   0%|          | 0/1 [00:00<?, ?it/s]"
      ]
     },
     "metadata": {},
     "output_type": "display_data"
    },
    {
     "name": "stderr",
     "output_type": "stream",
     "text": [
      "DEBUG:neo4j.pool:[#0000]  _: <POOL> acquire routing connection, access_mode='WRITE', database='neo4j'\n",
      "DEBUG:neo4j.pool:[#0000]  _: <POOL> routing aged?, database=None\n",
      "DEBUG:neo4j.pool:[#0000]  _: <ROUTING> purge check: last_updated_time=1299282.515, ttl=0, perf_time=1299351.437 => True\n",
      "DEBUG:neo4j.pool:[#0000]  _: <POOL> dropping routing table for database=None\n",
      "DEBUG:neo4j.pool:[#0000]  _: <POOL> routing aged?, database=neo4j\n",
      "DEBUG:neo4j.pool:[#0000]  _: <ROUTING> purge check: last_updated_time=1299301.312, ttl=10, perf_time=1299351.453 => True\n",
      "DEBUG:neo4j.pool:[#0000]  _: <POOL> dropping routing table for database=neo4j\n",
      "DEBUG:neo4j.pool:[#0000]  _: <ROUTING> checking table freshness (readonly=False): table expired=True, has_server_for_mode=False, table routers={IPv4Address(('58c9bf7b.databases.neo4j.io', 7687))} => False\n",
      "DEBUG:neo4j.pool:[#0000]  _: <POOL> attempting to update routing table from IPv4Address(('58c9bf7b.databases.neo4j.io', 7687))\n",
      "DEBUG:neo4j.io:[#0000]  _: <RESOLVE> in: 58c9bf7b.databases.neo4j.io:7687\n",
      "DEBUG:neo4j.io:[#0000]  _: <RESOLVE> dns resolver out: 34.78.76.49:7687\n",
      "DEBUG:neo4j.pool:[#0000]  _: <POOL> _acquire router connection, database='neo4j', address=ResolvedIPv4Address(('34.78.76.49', 7687))\n",
      "DEBUG:neo4j.pool:[#CDAF]  _: <POOL> picked existing connection bolt-1558\n",
      "DEBUG:neo4j.pool:[#CDAF]  _: <POOL> checked re_auth auth=None updated=False force=False\n",
      "DEBUG:neo4j.pool:[#CDAF]  _: <POOL> handing out existing connection\n",
      "DEBUG:neo4j.io:[#CDAF]  C: ROUTE {'address': '58c9bf7b.databases.neo4j.io:7687'} () {'db': 'neo4j'}\n",
      "DEBUG:neo4j.io:[#CDAF]  S: SUCCESS {'rt': {'servers': [{'addresses': ['58c9bf7b.databases.neo4j.io:7687'], 'role': 'WRITE'}, {'addresses': ['58c9bf7b.databases.neo4j.io:7687'], 'role': 'READ'}, {'addresses': ['58c9bf7b.databases.neo4j.io:7687'], 'role': 'ROUTE'}], 'ttl': 10, 'db': 'neo4j'}}\n",
      "DEBUG:neo4j.pool:[#CDAF]  _: <POOL> released bolt-1558\n",
      "DEBUG:neo4j.pool:[#0000]  _: <ROUTING> updated table=RoutingTable(database='neo4j' routers={IPv4Address(('58c9bf7b.databases.neo4j.io', 7687))}, readers={IPv4Address(('58c9bf7b.databases.neo4j.io', 7687))}, writers={IPv4Address(('58c9bf7b.databases.neo4j.io', 7687))}, last_updated_time=1299351.593, ttl=10)\n",
      "DEBUG:neo4j.pool:[#0000]  _: <POOL> update routing table from address=ResolvedIPv4Address(('34.78.76.49', 7687)) (RoutingTable(database='neo4j' routers={IPv4Address(('58c9bf7b.databases.neo4j.io', 7687))}, readers={IPv4Address(('58c9bf7b.databases.neo4j.io', 7687))}, writers={IPv4Address(('58c9bf7b.databases.neo4j.io', 7687))}, last_updated_time=1299351.593, ttl=10))\n",
      "DEBUG:neo4j.pool:[#0000]  _: <POOL> acquire address, database='neo4j' address=IPv4Address(('58c9bf7b.databases.neo4j.io', 7687))\n",
      "DEBUG:neo4j.pool:[#CDB1]  _: <POOL> picked existing connection bolt-1559\n",
      "DEBUG:neo4j.pool:[#CDB1]  _: <POOL> checked re_auth auth=None updated=False force=False\n",
      "DEBUG:neo4j.pool:[#CDB1]  _: <POOL> handing out existing connection\n",
      "DEBUG:neo4j.io:[#CDB1]  C: TELEMETRY 2  # (<TelemetryAPI.AUTO_COMMIT: 2>)\n",
      "DEBUG:neo4j.io:[#CDB1]  C: RUN 'CALL db.index.vector.queryNodes($index, $k, $embedding) YIELD node, score \\nMATCH window = (:Chunk)-[:NEXT*0..1]->(node:Chunk)-[:NEXT*0..1]->(:Chunk)\\nWITH node, window\\nORDER BY length(window) DESC LIMIT 1\\nWITH nodes(window) as chunkList, node\\nUNWIND chunkList as chunkRows\\nWITH collect(chunkRows.text) as textList, node\\nRETURN apoc.text.join(textList, \" \\n \") as text,\\n       node.score as score,\\n       node {.source} AS metadata\\n' {'index': 'vector_index', 'k': 4, 'embedding': array([-1.46192797e-02, -6.37481511e-02,  6.13657385e-03, -5.93802631e-02,\n",
      "        2.08007284e-02,  3.01341359e-02, -3.63759138e-02,  1.83343850e-02,\n",
      "        5.11854962e-02,  7.34472740e-03,  6.64175004e-02, -3.74233462e-02,\n",
      "        3.65986377e-02,  3.70190479e-02, -2.75335032e-02,  2.96685584e-02,\n",
      "        1.42929014e-02,  1.77617883e-03, -9.55008268e-02, -3.39280479e-02,\n",
      "       -7.13210851e-02, -5.96648827e-03, -2.76634414e-02, -2.22846232e-02,\n",
      "        1.65209454e-02, -6.98494837e-02,  3.18730697e-02,  5.97034916e-02,\n",
      "        2.40391828e-02, -1.73802010e-03,  3.17778736e-02, -1.64918117e-02,\n",
      "       -8.81598797e-03,  4.67936881e-02,  1.61377613e-06, -6.19481727e-02,\n",
      "       -2.84232199e-03,  2.27170959e-02, -5.51093109e-02,  5.11038713e-02,\n",
      "        2.41096225e-02,  1.74111705e-02, -3.58920470e-02, -2.30428688e-02,\n",
      "       -1.56924780e-02,  7.76008442e-02, -7.40638142e-03, -4.03364860e-02,\n",
      "        1.20642157e-02,  2.60501541e-02,  1.74433161e-02, -1.24244811e-03,\n",
      "       -7.29374215e-02, -1.28067872e-02,  1.58799775e-02, -2.72505879e-02,\n",
      "       -7.57052621e-04,  1.03358515e-02,  1.48233334e-02,  3.08578108e-02,\n",
      "        1.49184559e-02,  1.05508892e-02, -4.65226732e-02, -1.83672365e-02,\n",
      "        2.76421681e-02,  1.13947913e-02,  1.30645353e-02,  3.48719954e-02,\n",
      "        2.07640659e-02, -6.44033449e-03,  4.56829148e-04, -4.22475040e-02,\n",
      "        2.70352215e-02,  1.59845781e-02, -4.11428325e-02, -4.30765888e-03,\n",
      "       -3.76704186e-02, -3.30063626e-02,  3.47262360e-02,  2.06530113e-02,\n",
      "        1.99210104e-02,  4.25059199e-02, -1.74666028e-02,  3.65733393e-02,\n",
      "        1.10466689e-01, -6.71983883e-02, -2.05129180e-02, -2.90235635e-02,\n",
      "        1.58033539e-02,  5.23565896e-02,  6.19095936e-02, -8.40959884e-03,\n",
      "        7.20867189e-03,  5.52290082e-02, -4.16073129e-02, -6.78675026e-02,\n",
      "        9.14242789e-02, -6.10217685e-03,  2.87925508e-02, -2.40141656e-02,\n",
      "       -4.22819890e-02, -2.70949434e-02,  6.84651954e-04,  1.90575235e-02,\n",
      "        1.58201437e-03,  2.16817819e-02,  1.68968625e-02, -1.43153477e-03,\n",
      "       -2.04586075e-03,  6.17264472e-02, -1.33462958e-02, -2.46803109e-02,\n",
      "        2.17235163e-02,  2.82501765e-02, -3.00357882e-02,  4.36367802e-02,\n",
      "       -5.63622378e-02, -4.12453599e-02,  1.47798425e-02,  5.91162816e-02,\n",
      "        1.80542003e-02,  3.33676836e-03, -5.69873601e-02,  7.49582844e-03,\n",
      "        1.71850179e-03,  2.37375647e-02, -2.44056992e-02, -3.93711310e-03,\n",
      "        4.40735072e-02,  6.54647276e-02, -3.87073606e-02, -1.64724304e-03,\n",
      "        3.37242265e-03,  3.88115793e-02, -2.70353593e-02,  1.65190955e-03,\n",
      "       -2.61868909e-02,  3.76152061e-02,  6.11945894e-03, -3.71975079e-02,\n",
      "       -1.81628373e-02, -6.80313557e-02,  2.01675557e-02,  4.38929908e-02,\n",
      "       -3.36330384e-02,  1.53436540e-02,  2.27107666e-02,  3.29144532e-03,\n",
      "       -1.80507824e-02, -3.28723416e-02, -3.45232002e-02, -7.63530703e-03,\n",
      "       -2.69137472e-02, -3.62163708e-02,  8.83550346e-02,  3.40073518e-02,\n",
      "       -5.75321168e-03,  4.03460581e-03, -1.58020929e-02,  5.52181564e-02,\n",
      "       -1.76518259e-03,  4.10517445e-03,  9.91734024e-03, -1.58838779e-02,\n",
      "       -5.89233786e-02,  4.25557792e-03, -1.09253060e-02,  2.87393364e-03,\n",
      "        6.93128724e-03,  1.76063217e-02, -2.97953654e-03,  1.89812500e-02,\n",
      "       -2.70636324e-02,  1.88848358e-02,  2.80743539e-02,  2.39329040e-02,\n",
      "       -3.08266636e-02,  1.62128061e-02, -2.21347809e-02,  3.54814455e-02,\n",
      "        7.04580024e-02, -3.15727144e-02,  2.27019992e-02, -2.61342451e-02,\n",
      "       -2.59441379e-02,  5.25095277e-02, -7.44589567e-02, -2.87350323e-02,\n",
      "       -8.21056496e-03, -2.97353826e-02, -4.31114063e-02, -2.07793657e-02,\n",
      "       -9.79405716e-02,  1.32207014e-03,  3.54102366e-02, -1.49934143e-02,\n",
      "        5.08063920e-02,  1.33911818e-02,  3.96993905e-02, -7.71317557e-02,\n",
      "       -2.33420432e-02,  3.19905169e-02, -2.98401574e-03,  5.38757518e-02,\n",
      "        1.29844798e-02,  4.87665795e-02,  3.75759602e-02, -6.33345917e-02,\n",
      "       -3.83422039e-02,  3.58568784e-03, -6.08185446e-03, -3.53841819e-02,\n",
      "        5.73823154e-02,  7.13746948e-03,  2.32508257e-02,  1.90926678e-02,\n",
      "       -1.39034409e-02, -4.98679243e-02, -2.51769274e-02, -1.51275648e-02,\n",
      "       -8.40321940e-04,  8.54482129e-02, -8.89695529e-03, -2.63115708e-02,\n",
      "       -2.92265862e-02,  4.55687568e-02,  1.66547354e-02, -7.62872398e-03,\n",
      "        4.56307828e-03,  2.02608239e-02,  1.97529308e-02, -8.10766127e-03,\n",
      "       -1.39397131e-02,  3.87893356e-02, -1.35384761e-02, -5.94187602e-02,\n",
      "        7.92621449e-03, -1.83366109e-02, -3.64937005e-03, -4.26307917e-02,\n",
      "        1.33491671e-02, -8.12245253e-03,  2.37767845e-02,  4.89669386e-03,\n",
      "        3.56657021e-02,  1.32372361e-02, -2.90067438e-02,  2.42578611e-03,\n",
      "        7.13554844e-02, -2.05271766e-02,  6.62238151e-03, -4.42308597e-02,\n",
      "        2.57106144e-02,  2.86297407e-02, -1.24650123e-02, -1.39194448e-02,\n",
      "       -3.46608274e-02,  9.12987511e-04, -5.27647063e-02,  1.72740954e-03,\n",
      "       -1.61706340e-02, -5.43540232e-02, -4.19988409e-02, -1.59343183e-02,\n",
      "        1.52689759e-02, -1.36374375e-02,  1.73755847e-02, -3.02638318e-02,\n",
      "       -2.51136571e-02,  1.53158177e-02, -4.15484831e-02,  1.53091783e-02,\n",
      "       -6.07253239e-03,  1.91366170e-02, -4.08650152e-02,  1.08268782e-02,\n",
      "        5.31637594e-02,  7.33768335e-03, -6.42556176e-02,  3.23709622e-02,\n",
      "        3.35393697e-02,  3.22831869e-02, -7.76055548e-03, -9.04520880e-03,\n",
      "       -2.16086637e-02,  6.04384132e-02,  1.80016886e-02,  1.90387070e-02,\n",
      "        7.70188682e-03,  8.20352137e-02,  1.21276360e-02,  8.13866779e-03,\n",
      "        3.85432951e-02, -2.66266596e-02, -3.34079005e-02,  1.20260264e-03,\n",
      "        1.68400854e-02,  3.96214873e-02,  7.63032469e-04, -1.33412024e-02,\n",
      "       -8.04406963e-03, -2.80901194e-02,  1.16200987e-02, -2.61167996e-02,\n",
      "       -3.31724323e-02,  4.62984294e-02, -2.93817986e-02,  3.91993523e-02,\n",
      "       -5.24444617e-02,  5.28023914e-02,  1.89249031e-02, -1.19557530e-02,\n",
      "        4.91305254e-02, -7.30742961e-02,  3.69538218e-02,  5.28667960e-03,\n",
      "       -4.07825410e-02,  3.02815847e-02, -2.28852052e-02, -4.45953645e-02,\n",
      "        6.24388196e-02,  2.65722605e-03, -1.56428991e-03, -5.43486439e-02,\n",
      "       -1.94726922e-02,  1.96311250e-02, -7.18935803e-02,  1.58313904e-02,\n",
      "       -2.30932571e-02, -3.93233597e-02, -9.11875721e-03, -3.19489874e-02,\n",
      "        9.17626545e-03,  3.01623736e-02, -2.34352276e-02, -3.52868140e-02,\n",
      "       -2.94770077e-02, -7.08384812e-02,  1.17228867e-03,  1.56767424e-02,\n",
      "       -3.44014056e-02,  1.26376515e-02,  6.74368255e-03,  2.12922413e-02,\n",
      "       -2.55598053e-02, -1.15179541e-02,  3.78937870e-02,  3.51869948e-02,\n",
      "        2.31880341e-02, -5.63533697e-03, -2.61744726e-02,  7.87694380e-02,\n",
      "       -3.13930623e-02, -1.56182768e-02, -2.30051205e-03, -1.15362508e-02,\n",
      "        2.14473363e-02, -1.09775569e-02,  1.15957446e-02, -3.89254931e-03,\n",
      "        1.61777448e-03,  3.53362188e-02,  5.71830459e-02,  3.75868380e-03,\n",
      "        9.35751572e-03, -3.70711759e-02,  3.84685174e-02, -2.68573724e-02,\n",
      "        1.28271198e-02,  5.62293492e-02, -3.86979734e-03,  5.95776644e-03,\n",
      "       -7.80078992e-02,  3.25974412e-02, -2.71668658e-02, -1.11552346e-02,\n",
      "       -5.33495611e-03,  5.22451301e-04, -3.14407125e-02,  2.07257178e-02,\n",
      "        3.25656943e-02, -2.47661956e-02,  5.41155301e-02, -9.27600078e-03,\n",
      "        1.36349490e-02, -4.16909577e-04,  1.26330042e-02,  8.24120827e-03,\n",
      "        4.78497259e-02,  3.13850492e-03,  2.51652356e-02, -9.03318226e-02,\n",
      "        1.57411825e-02,  5.17158657e-02, -4.74964753e-02,  2.98607908e-02,\n",
      "       -2.37866919e-02, -2.94142086e-02, -2.22376380e-02, -1.28749413e-02,\n",
      "        9.48387105e-03, -4.98752594e-02,  3.57483514e-02,  4.13320549e-02,\n",
      "        9.46127903e-03, -2.41525695e-02,  2.19308790e-02, -2.66404226e-02,\n",
      "        3.08089964e-02, -7.85945505e-02, -1.95741337e-02,  4.24924679e-02,\n",
      "       -1.07166702e-02, -1.79369934e-02, -4.01552208e-02, -5.45921624e-02,\n",
      "       -1.27303340e-02,  1.56177320e-02,  5.07104844e-02, -3.78646925e-02,\n",
      "        1.42682930e-02, -4.58058715e-03,  1.62506383e-02, -2.10060924e-02,\n",
      "       -2.18429156e-02, -3.00265197e-03,  6.69089556e-02,  2.51386315e-02,\n",
      "        1.54164550e-03, -5.02154185e-03,  1.92683022e-02,  2.52494570e-02,\n",
      "       -5.27127124e-02, -1.41694155e-02,  1.28020663e-02,  1.83985047e-02,\n",
      "        7.64079317e-02,  4.21615019e-02,  1.06683522e-02,  6.55338839e-02,\n",
      "        1.41523425e-02,  5.94416307e-03,  2.08984624e-04, -3.96019407e-02,\n",
      "        8.49627033e-02,  4.92509715e-02, -1.89003758e-02,  3.55710485e-03,\n",
      "        4.75388020e-02, -8.13539773e-02,  1.71596278e-02, -2.30187792e-02,\n",
      "        4.05680272e-04,  3.12284697e-02,  1.85492206e-02, -6.40498251e-02,\n",
      "       -7.36673474e-02,  2.39663757e-02,  2.37070397e-03, -3.01264180e-03,\n",
      "        4.22213003e-02,  1.98607668e-02,  1.34054292e-02, -2.69606616e-02,\n",
      "       -3.45668942e-02, -5.79251088e-02, -4.28510085e-03, -5.41432388e-02,\n",
      "       -6.97312364e-03, -5.52288145e-02, -5.51535264e-02, -2.21179556e-02,\n",
      "       -5.07915998e-03,  4.52325866e-02,  7.55647942e-03,  1.45102032e-02,\n",
      "        1.05121732e-02,  3.51388194e-02,  2.72417758e-02,  4.63871192e-03,\n",
      "        3.47978552e-03,  7.79705718e-02,  3.87731171e-03,  3.04653570e-02,\n",
      "        5.92810102e-02,  5.64738996e-02, -3.74795757e-02,  1.34985829e-02,\n",
      "        3.14224623e-02, -6.33507147e-02,  2.38285381e-02, -2.53568087e-02,\n",
      "        1.56353731e-02, -2.14889348e-02,  6.99652219e-03,  9.00372639e-02,\n",
      "       -4.94343378e-02,  1.82550773e-02, -7.31745511e-02, -8.42039473e-03,\n",
      "        4.09322344e-02, -1.19359652e-02,  1.51607832e-02, -2.24321312e-03,\n",
      "        9.82016232e-03, -3.90579156e-03, -3.08326241e-02,  5.69237135e-02,\n",
      "        1.78036764e-02,  4.76483703e-02,  8.90472233e-02, -6.70849252e-03,\n",
      "       -4.45654383e-03,  5.13913371e-02, -2.12118458e-02, -3.02235316e-02,\n",
      "        3.95880593e-03,  3.13955732e-02,  1.68496259e-02,  5.00669554e-02,\n",
      "        2.56461445e-02, -3.97602022e-02, -1.35698379e-03, -5.02931289e-02,\n",
      "       -3.93050257e-03,  9.00180545e-03, -2.22447468e-03, -6.97472021e-02,\n",
      "        3.66693623e-02, -9.29781329e-03,  1.74325183e-02, -6.53025955e-02,\n",
      "        3.86240743e-02, -2.90875081e-02, -2.11922154e-02,  1.24079017e-02,\n",
      "        3.43775898e-02,  5.79209886e-02, -2.98703276e-03,  2.00555921e-02,\n",
      "       -2.64681876e-02, -3.96397375e-02,  3.10299471e-02,  1.16955740e-02,\n",
      "        5.26268454e-03, -2.12589297e-02,  1.55290319e-02,  1.84103083e-02,\n",
      "       -4.28417847e-02, -1.01813808e-01,  7.55640492e-03,  3.47778834e-02,\n",
      "        5.36542982e-02, -6.38741488e-03,  4.55760956e-02, -5.87337222e-33,\n",
      "        1.44392978e-02, -2.55854074e-02, -5.44039160e-03, -3.52786966e-02,\n",
      "        1.80168226e-02, -4.44634259e-02, -2.68189646e-02, -1.22274850e-02,\n",
      "        1.54456999e-02,  5.59108471e-03, -1.78920925e-02,  9.27686691e-03,\n",
      "        2.10097264e-02,  6.18929788e-02,  3.84633578e-02,  1.59497224e-02,\n",
      "        1.76592823e-02,  3.88801545e-02, -5.45261018e-02, -4.74053286e-02,\n",
      "       -1.15437619e-02, -2.19527483e-02,  5.30282520e-02,  7.30840638e-02,\n",
      "       -4.61799167e-02, -5.19059189e-02,  3.22927423e-02, -1.80408880e-02,\n",
      "        1.21412389e-02, -2.76344847e-02,  4.12289202e-02,  2.43828502e-02,\n",
      "        1.29439030e-02,  2.91674770e-03,  6.07493073e-02,  6.71873689e-02,\n",
      "       -8.81872475e-02,  8.87450669e-03, -3.90651822e-02,  2.93473564e-02,\n",
      "       -3.42419036e-02, -5.21081127e-02, -7.73115829e-03, -4.49758954e-03,\n",
      "       -7.52880648e-02, -6.22225404e-02, -3.81351523e-02,  9.94767621e-03,\n",
      "       -8.33987352e-03, -6.90344274e-02, -2.79398486e-02, -1.70607418e-02,\n",
      "       -2.40599867e-02,  6.43317699e-02, -6.28575906e-02, -3.26864459e-02,\n",
      "        3.05957049e-02,  3.08675878e-02,  3.75009365e-02,  2.39761844e-02,\n",
      "        2.01905356e-03,  1.69024654e-02,  2.05673669e-02, -3.55198458e-02,\n",
      "       -3.70282046e-02, -2.94994768e-02, -7.40188584e-02, -2.97918357e-03,\n",
      "        9.31676850e-03,  3.84692885e-02,  3.73758678e-03, -4.72984016e-02,\n",
      "       -6.38575628e-02, -4.07910533e-02, -7.87288025e-02, -7.65799284e-02,\n",
      "       -1.44097712e-02, -1.65341012e-02, -1.16071012e-02,  5.82219334e-03,\n",
      "       -4.09179851e-02,  2.15438195e-02, -5.99650070e-02,  1.67372953e-02,\n",
      "       -9.74434800e-03,  6.18940555e-02,  1.07409386e-02,  2.77185463e-03,\n",
      "        3.68750049e-03, -5.75892488e-03, -1.53140714e-02,  1.40012458e-01,\n",
      "       -3.38943750e-02, -3.00552743e-03,  7.21236095e-02, -2.07560714e-02,\n",
      "        5.26853725e-02, -1.13610048e-02,  2.37526670e-02,  3.38564254e-02,\n",
      "       -3.24447416e-02,  2.59976778e-02, -2.56720502e-02, -8.69309250e-03,\n",
      "       -2.67465822e-02, -6.32136595e-03, -6.14207163e-02, -2.55132318e-02,\n",
      "        1.41955307e-02,  2.41297651e-02,  6.07002378e-02,  7.04523001e-04,\n",
      "       -1.52812972e-05,  1.52086206e-02,  7.26687722e-03, -3.01392507e-02,\n",
      "        9.38406400e-03, -1.20191155e-02, -5.70762157e-02,  1.84652442e-03,\n",
      "        1.61915701e-02,  4.45750318e-02, -1.97721329e-02,  2.91433595e-02,\n",
      "        1.74222921e-03,  3.00138984e-02,  2.27064174e-02, -6.41663074e-02,\n",
      "        6.28579631e-02, -2.29440257e-02,  3.14429216e-02,  2.56631318e-02,\n",
      "        2.25176251e-07, -5.35400882e-02,  7.14709014e-02,  1.28128286e-02,\n",
      "        5.34949936e-02,  2.24919990e-03, -2.50613075e-02,  2.27465462e-02,\n",
      "       -2.68359818e-02, -1.05777308e-02,  2.26104800e-02, -6.80965856e-02,\n",
      "        2.72381138e-02,  3.05814166e-02, -4.43114974e-02, -2.92620156e-02,\n",
      "       -1.18113197e-01, -1.27779879e-02, -3.92262675e-02,  2.42069047e-02,\n",
      "        1.52800009e-02, -2.88028065e-02,  3.23683256e-03,  2.48873816e-03,\n",
      "       -2.76848488e-02, -2.18118951e-02,  3.78367193e-02, -1.05186487e-02,\n",
      "        5.50519824e-02,  3.50726093e-03,  5.14082871e-02, -6.41673058e-02,\n",
      "       -3.81476805e-02,  9.68510564e-03,  7.46040568e-02, -5.35896001e-03,\n",
      "       -2.49903370e-03,  3.30490135e-02,  3.46178189e-02,  1.60717163e-02,\n",
      "       -9.41703271e-04, -4.16197702e-02, -4.48213965e-02,  2.94671627e-03,\n",
      "       -1.17870821e-02,  4.32986245e-02, -4.70387079e-02,  4.56047198e-03,\n",
      "       -5.65488786e-02, -4.63159531e-02, -3.74229327e-02, -6.17494136e-02,\n",
      "        2.30315886e-02,  3.94900963e-02, -3.09538171e-02,  3.82314026e-02,\n",
      "        1.25758080e-02,  5.34647703e-02,  2.84075812e-02,  5.66735603e-02,\n",
      "        1.98411029e-02, -2.09077355e-03, -6.32887185e-02,  3.34317833e-02,\n",
      "        1.28841698e-02,  6.25632033e-02, -1.42362909e-02, -8.30357373e-02,\n",
      "        1.27742923e-34,  4.47944738e-02, -1.97771415e-02,  2.21435316e-02,\n",
      "       -1.88603327e-02, -5.09768724e-03, -4.26563285e-02, -8.04981031e-03,\n",
      "       -1.50345871e-02,  3.23700458e-02,  7.77639961e-03, -9.70466342e-03],\n",
      "      dtype=float32), 'keyword_index': 'keyword', 'query': 'tell me about HSCs'} {'db': 'neo4j'}\n"
     ]
    },
    {
     "name": "stderr",
     "output_type": "stream",
     "text": [
      "DEBUG:neo4j.io:[#CDB1]  C: PULL {'n': 1000}\n",
      "DEBUG:neo4j.io:[#CDB1]  S: SUCCESS {}\n",
      "DEBUG:neo4j.io:[#CDB1]  S: SUCCESS {'t_first': 4, 'fields': ['text', 'score', 'metadata']}\n",
      "DEBUG:neo4j.io:[#CDB1]  _: <CONNECTION> server state: READY > STREAMING\n",
      "DEBUG:neo4j.io:[#CDB1]  S: RECORD * 1\n",
      "DEBUG:neo4j.io:[#CDB1]  S: SUCCESS {'bookmark': 'FB:kcwQFzOWRTl8TWOIQ18zCpU3d8kBmpA=', 'type': 'r', 't_last': 4, 'db': 'neo4j', 'notifications': [{'severity': 'WARNING', 'description': \"One of the property names in your query is not available in the database, make sure you didn't misspell it or that the label is available when you run this statement in your application (the missing property name is: score)\", 'code': 'Neo.ClientNotification.Statement.UnknownPropertyKeyWarning', 'position': {'column': 13, 'offset': 384, 'line': 11}, 'title': 'The provided property key is not in the database', 'category': 'UNRECOGNIZED'}]}\n",
      "DEBUG:neo4j.io:[#CDB1]  _: <CONNECTION> server state: STREAMING > READY\n",
      "DEBUG:neo4j.pool:[#CDB1]  _: <POOL> released bolt-1559\n",
      "WARNING:neo4j.notifications:Received notification from DBMS server: {severity: WARNING} {code: Neo.ClientNotification.Statement.UnknownPropertyKeyWarning} {category: UNRECOGNIZED} {title: The provided property key is not in the database} {description: One of the property names in your query is not available in the database, make sure you didn't misspell it or that the label is available when you run this statement in your application (the missing property name is: score)} {position: line: 11, column: 13, offset: 384} for query: 'CALL db.index.vector.queryNodes($index, $k, $embedding) YIELD node, score \\nMATCH window = (:Chunk)-[:NEXT*0..1]->(node:Chunk)-[:NEXT*0..1]->(:Chunk)\\nWITH node, window\\nORDER BY length(window) DESC LIMIT 1\\nWITH nodes(window) as chunkList, node\\nUNWIND chunkList as chunkRows\\nWITH collect(chunkRows.text) as textList, node\\nRETURN apoc.text.join(textList, \" \\n \") as text,\\n       node.score as score,\\n       node {.source} AS metadata\\n'\n"
     ]
    },
    {
     "name": "stdout",
     "output_type": "stream",
     "text": [
      "{'answer': 'HSC stands for hematopoietic stem cells.\\n', 'sources': 'SCI2022-5395248.pdf'}\n"
     ]
    }
   ],
   "source": [
    "prettychain(\"tell me about HSCs\")"
   ]
  }
 ],
 "metadata": {
  "kernelspec": {
   "display_name": "Python 3 (ipykernel)",
   "language": "python",
   "name": "python3"
  },
  "language_info": {
   "codemirror_mode": {
    "name": "ipython",
    "version": 3
   },
   "file_extension": ".py",
   "mimetype": "text/x-python",
   "name": "python",
   "nbconvert_exporter": "python",
   "pygments_lexer": "ipython3",
   "version": "3.10.11"
  }
 },
 "nbformat": 4,
 "nbformat_minor": 5
}
